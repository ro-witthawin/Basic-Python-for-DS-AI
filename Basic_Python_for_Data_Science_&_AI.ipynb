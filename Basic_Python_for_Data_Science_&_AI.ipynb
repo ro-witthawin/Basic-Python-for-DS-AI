{
  "nbformat": 4,
  "nbformat_minor": 0,
  "metadata": {
    "colab": {
      "provenance": [],
      "toc_visible": true,
      "authorship_tag": "ABX9TyMhor7/NTcK8fPQNACWMaYA",
      "include_colab_link": true
    },
    "kernelspec": {
      "name": "python3",
      "display_name": "Python 3"
    },
    "language_info": {
      "name": "python"
    }
  },
  "cells": [
    {
      "cell_type": "markdown",
      "metadata": {
        "id": "view-in-github",
        "colab_type": "text"
      },
      "source": [
        "<a href=\"https://colab.research.google.com/github/ro-witthawin/Basic-Python-for-DS-AI/blob/main/Basic_Python_for_Data_Science_%26_AI.ipynb\" target=\"_parent\"><img src=\"https://colab.research.google.com/assets/colab-badge.svg\" alt=\"Open In Colab\"/></a>"
      ]
    },
    {
      "cell_type": "markdown",
      "source": [
        "# 🐍 Basic Python for Data Science & AI\n",
        "Welcome to this hands-on Colab session!\n",
        "\n",
        "In this notebook, we’ll learn the essential steps in a typical data science workflow using **Python**, **pandas**, **matplotlib**, **seaborn**, and **scikit-learn**.\n",
        "\n",
        "We'll work on a real dataset: **Daily Fish Log** – which contains fishing records including date, species, and catch weight.\n",
        "\n",
        "---\n",
        "\n",
        "### 🧭 What You Will Learn\n",
        "- How to load and explore data with `pandas`\n",
        "- Data cleaning and preparation\n",
        "- Visualizing trends and patterns\n",
        "- Feature engineering techniques\n",
        "- Basic statistical analysis\n",
        "- Building simple machine learning models\n",
        "- Exporting results\n",
        "\n",
        "---\n",
        "\n",
        "> 🔧 No prior machine learning experience needed — just some Python basics!"
      ],
      "metadata": {
        "id": "QwP90ZqsRrNd"
      }
    },
    {
      "cell_type": "markdown",
      "source": [
        "# 🧠 Logic & Boolean\n",
        "\n",
        "In this notebook, you will learn the foundations of logic and boolean expressions in Python.\n",
        "\n",
        "📌 Topics:\n",
        "- Boolean values\n",
        "- Comparison operators\n",
        "- Logical operators\n",
        "- If statements\n",
        "- Practice exercises"
      ],
      "metadata": {
        "id": "AGOrZ7K7lhv8"
      }
    },
    {
      "cell_type": "code",
      "source": [
        "# Boolean Values\n",
        "print(True)\n",
        "print(False)\n",
        "\n",
        "# Type of boolean\n",
        "print(type(True))\n",
        "print(type(False))"
      ],
      "metadata": {
        "id": "x9Cw5QzEliOp"
      },
      "execution_count": null,
      "outputs": []
    },
    {
      "cell_type": "markdown",
      "source": [
        "## 🔍 Comparison Operators\n",
        "\n",
        "| Operator | Description         | Example        |\n",
        "|----------|---------------------|----------------|\n",
        "| ==       | Equal to            | 3 == 3 → True  |\n",
        "| !=       | Not equal to        | 3 != 4 → True  |\n",
        "| >        | Greater than        | 5 > 2 → True   |\n",
        "| <        | Less than           | 1 < 3 → True   |\n",
        "| >=       | Greater or equal    | 5 >= 5 → True  |\n",
        "| <=       | Less or equal       | 3 <= 4 → True  |"
      ],
      "metadata": {
        "id": "E8QSSp88llhZ"
      }
    },
    {
      "cell_type": "code",
      "source": [
        "# Comparison Examples\n",
        "print(5 == 5)\n",
        "print(7 != 2)\n",
        "print(3 < 10)\n",
        "print(6 >= 9)"
      ],
      "metadata": {
        "id": "kQmQ0bqhlkHN"
      },
      "execution_count": null,
      "outputs": []
    },
    {
      "cell_type": "markdown",
      "source": [
        "## 🔗 Logical Operators\n",
        "\n",
        "| Operator | Description                | Example            |\n",
        "|----------|----------------------------|--------------------|\n",
        "| and      | True if both are true      | True and False     |\n",
        "| or       | True if one is true        | False or True      |\n",
        "| not      | Inverts the result         | not True → False   |"
      ],
      "metadata": {
        "id": "IQwfS3oKlp8M"
      }
    },
    {
      "cell_type": "code",
      "source": [
        "# Logical Operator Examples\n",
        "print(True and True)\n",
        "print(True and False)\n",
        "print(False or True)\n",
        "print(not False)"
      ],
      "metadata": {
        "id": "WrSdSrBTlpDn"
      },
      "execution_count": null,
      "outputs": []
    },
    {
      "cell_type": "markdown",
      "source": [
        "## 🔄 Conditional Statements (if, elif, else)"
      ],
      "metadata": {
        "id": "-262_KarltcO"
      }
    },
    {
      "cell_type": "code",
      "source": [
        "x = 15\n",
        "\n",
        "if x > 10:\n",
        "    print(\"x is greater than 10\")\n",
        "elif x == 10:\n",
        "    print(\"x is exactly 10\")\n",
        "else:\n",
        "    print(\"x is less than 10\")"
      ],
      "metadata": {
        "id": "UlFsMBnbltyT"
      },
      "execution_count": null,
      "outputs": []
    },
    {
      "cell_type": "markdown",
      "source": [
        "## 📝 Practice Exercise 1\n",
        "\n",
        "Write a program that checks whether a number is positive, negative, or zero."
      ],
      "metadata": {
        "id": "xDgHO9qNlyCZ"
      }
    },
    {
      "cell_type": "code",
      "source": [
        "number = float(input(\"Enter a number: \"))\n",
        "\n",
        "# TODO: Write your logic here\n",
        "if number > 0:\n",
        "    print(\"Positive number\")\n",
        "elif number < 0:\n",
        "    print(\"Negative number\")\n",
        "else:\n",
        "    print(\"Zero\")"
      ],
      "metadata": {
        "id": "sA1SxvDJlwHZ"
      },
      "execution_count": null,
      "outputs": []
    },
    {
      "cell_type": "markdown",
      "source": [
        "## 🧪 Practice Exercise 2\n",
        "\n",
        "Check if a student has passed. A student passes if their score is 50 or above."
      ],
      "metadata": {
        "id": "VtL-t8w_l2SG"
      }
    },
    {
      "cell_type": "code",
      "source": [
        "score = int(input(\"Enter your score: \"))\n",
        "\n",
        "# TODO: Write your logic here\n",
        "if score >= 50:\n",
        "    print(\"Passed\")\n",
        "else:\n",
        "    print(\"Failed\")\n"
      ],
      "metadata": {
        "id": "Uhae9BbIl3DN"
      },
      "execution_count": null,
      "outputs": []
    },
    {
      "cell_type": "markdown",
      "source": [
        "✅ Great job! You’ve now learned the basics of logic and boolean operations in Python.\n",
        "\n",
        "Keep practicing to master control flow and decision making."
      ],
      "metadata": {
        "id": "_IXHLJI6l58G"
      }
    },
    {
      "cell_type": "markdown",
      "source": [
        "# 🔢 Integers, Floats & Math Operations\n",
        "\n",
        "In this lesson, you’ll learn how Python handles numbers — both integers and floating-point numbers — and how to perform basic arithmetic operations.\n",
        "\n",
        "📌 Topics:\n",
        "- Integer and Float types\n",
        "- Basic arithmetic operations\n",
        "- Type conversion\n",
        "- Math library (import math)\n",
        "- Practice problems"
      ],
      "metadata": {
        "id": "YQkBsYUZl9RW"
      }
    },
    {
      "cell_type": "code",
      "source": [
        "# Integer and Float Examples\n",
        "print(10)           # Integer\n",
        "print(3.14)         # Float\n",
        "print(type(10))     # <class 'int'>\n",
        "print(type(3.14))   # <class 'float'>"
      ],
      "metadata": {
        "id": "m8y1Ie1nl6sl"
      },
      "execution_count": null,
      "outputs": []
    },
    {
      "cell_type": "markdown",
      "source": [
        "## ➕ Arithmetic Operators\n",
        "\n",
        "| Operator | Description      | Example         |\n",
        "|----------|------------------|-----------------|\n",
        "| +        | Addition         | 2 + 3 → 5       |\n",
        "| -        | Subtraction      | 5 - 2 → 3       |\n",
        "| *        | Multiplication   | 4 * 2 → 8       |\n",
        "| /        | Division         | 10 / 2 → 5.0    |\n",
        "| //       | Floor Division   | 10 // 3 → 3     |\n",
        "| %        | Modulus          | 10 % 3 → 1      |\n",
        "| **       | Exponentiation   | 2 ** 3 → 8      |"
      ],
      "metadata": {
        "id": "CCTdKshYmCsW"
      }
    },
    {
      "cell_type": "code",
      "source": [
        "# Arithmetic Examples\n",
        "a = 10\n",
        "b = 3\n",
        "\n",
        "print(\"Addition:\", a + b)\n",
        "print(\"Subtraction:\", a - b)\n",
        "print(\"Multiplication:\", a * b)\n",
        "print(\"Division:\", a / b)\n",
        "print(\"Floor Division:\", a // b)\n",
        "print(\"Modulus:\", a % b)\n",
        "print(\"Exponentiation:\", a ** b)"
      ],
      "metadata": {
        "id": "_eDIkO-FmDDb"
      },
      "execution_count": null,
      "outputs": []
    },
    {
      "cell_type": "markdown",
      "source": [
        "## 🔁 Type Conversion\n",
        "\n",
        "Sometimes, you need to convert between integers and floats:\n",
        "- `int()` converts to integer (truncates decimal)\n",
        "- `float()` converts to float"
      ],
      "metadata": {
        "id": "zHrSr4T8mGj_"
      }
    },
    {
      "cell_type": "code",
      "source": [
        "x = 5.67\n",
        "y = 10\n",
        "\n",
        "print(int(x))    # Convert float to int\n",
        "print(float(y))  # Convert int to float"
      ],
      "metadata": {
        "id": "UOXiI5KCmG5x"
      },
      "execution_count": null,
      "outputs": []
    },
    {
      "cell_type": "markdown",
      "source": [
        "## 🧮 The `math` Module\n",
        "\n",
        "Python’s `math` module provides advanced mathematical functions like square root, power, pi, etc."
      ],
      "metadata": {
        "id": "z8WqX482mLwO"
      }
    },
    {
      "cell_type": "code",
      "source": [
        "import math\n",
        "\n",
        "print(\"Square root of 16:\", math.sqrt(16))\n",
        "print(\"Power (2^5):\", math.pow(2, 5))\n",
        "print(\"Pi value:\", math.pi)\n",
        "print(\"Sine of 90 degrees:\", math.sin(math.radians(90)))"
      ],
      "metadata": {
        "id": "VBnla1FJmMHN"
      },
      "execution_count": null,
      "outputs": []
    },
    {
      "cell_type": "markdown",
      "source": [
        "## 📝 Practice Exercise 1\n",
        "\n",
        "Write a program that takes 2 numbers and prints the result of:\n",
        "- Addition\n",
        "- Subtraction\n",
        "- Multiplication\n",
        "- Division"
      ],
      "metadata": {
        "id": "kY3zfrf7mPA6"
      }
    },
    {
      "cell_type": "code",
      "source": [
        "x = float(input(\"Enter first number: \"))\n",
        "y = float(input(\"Enter second number: \"))\n",
        "\n",
        "print(\"Addition:\", x + y)\n",
        "print(\"Subtraction:\", x - y)\n",
        "print(\"Multiplication:\", x * y)\n",
        "print(\"Division:\", x / y)"
      ],
      "metadata": {
        "id": "s6DvbmdJmPWL"
      },
      "execution_count": null,
      "outputs": []
    },
    {
      "cell_type": "markdown",
      "source": [
        "## 🧪 Practice Exercise 2\n",
        "\n",
        "Calculate the area of a circle given the radius by the user. Use the formula:\n",
        "\n",
        "$${Area} = \\pi \\times r^2$$"
      ],
      "metadata": {
        "id": "kBqf9dvYmSO9"
      }
    },
    {
      "cell_type": "code",
      "source": [
        "radius = float(input(\"Enter radius of the circle: \"))\n",
        "area = math.pi * radius ** 2\n",
        "print(\"Area of the circle:\", area)"
      ],
      "metadata": {
        "id": "o-D_X0QTmSjW"
      },
      "execution_count": null,
      "outputs": []
    },
    {
      "cell_type": "markdown",
      "source": [
        "✅ That’s it! You now understand numbers and math operations in Python.\n",
        "\n",
        "Keep practicing to build strong numerical thinking in Python!"
      ],
      "metadata": {
        "id": "9P7hVoINmZ5f"
      }
    },
    {
      "cell_type": "markdown",
      "source": [
        "# 🔁 For Loops\n",
        "\n",
        "In this notebook, you'll learn how to use `for` loops in Python to repeat actions, iterate over sequences, and write efficient code.\n",
        "\n",
        "📌 Topics:\n",
        "- Syntax of `for` loops\n",
        "- Using `range()`\n",
        "- Iterating over strings and lists\n",
        "- Nested loops\n",
        "- Practice exercises\n"
      ],
      "metadata": {
        "id": "zcxC7gKamk0c"
      }
    },
    {
      "cell_type": "code",
      "source": [
        "# Basic for loop using range\n",
        "for i in range(5):\n",
        "    print(\"Iteration:\", i)"
      ],
      "metadata": {
        "id": "D726K78ymaij"
      },
      "execution_count": null,
      "outputs": []
    },
    {
      "cell_type": "markdown",
      "source": [
        "## 🔢 `range()` Function\n",
        "\n",
        "The `range()` function is commonly used with `for` loops.\n",
        "\n",
        "- `range(n)` → 0 to n-1  \n",
        "- `range(start, stop)` → from start to stop-1  \n",
        "- `range(start, stop, step)` → with custom increment"
      ],
      "metadata": {
        "id": "a6c-VIY9mqId"
      }
    },
    {
      "cell_type": "code",
      "source": [
        "# Various usages of range\n",
        "print(\"range(5):\")\n",
        "for i in range(5):\n",
        "    print(i)\n",
        "\n",
        "print(\"\\nrange(2, 7):\")\n",
        "for i in range(2, 7):\n",
        "    print(i)\n",
        "\n",
        "print(\"\\nrange(10, 2, -2):\")\n",
        "for i in range(10, 2, -2):\n",
        "    print(i)"
      ],
      "metadata": {
        "id": "TtoRVogrmqe6"
      },
      "execution_count": null,
      "outputs": []
    },
    {
      "cell_type": "markdown",
      "source": [
        "## 📜 Iterating Over Strings and Lists"
      ],
      "metadata": {
        "id": "jOJr6DsZmttv"
      }
    },
    {
      "cell_type": "code",
      "source": [
        "# Looping through a string\n",
        "for letter in \"Hello\":\n",
        "    print(letter)\n",
        "\n",
        "# Looping through a list\n",
        "fruits = [\"apple\", \"banana\", \"mango\"]\n",
        "for fruit in fruits:\n",
        "    print(fruit)"
      ],
      "metadata": {
        "id": "KFVRGNB4muCi"
      },
      "execution_count": null,
      "outputs": []
    },
    {
      "cell_type": "markdown",
      "source": [
        "## 🔁 Nested Loops\n",
        "\n",
        "You can use loops inside loops."
      ],
      "metadata": {
        "id": "Tv0yKOJ4mxAe"
      }
    },
    {
      "cell_type": "code",
      "source": [
        "# Multiplication table\n",
        "for i in range(1, 4):\n",
        "    for j in range(1, 4):\n",
        "        print(f\"{i} x {j} = {i * j}\")\n",
        "    print(\"---\")\n"
      ],
      "metadata": {
        "id": "gRBpzJy9mxaW"
      },
      "execution_count": null,
      "outputs": []
    },
    {
      "cell_type": "markdown",
      "source": [
        "## 📝 Practice Exercise 1\n",
        "\n",
        "Print all even numbers from 1 to 20.\n"
      ],
      "metadata": {
        "id": "MOxYxWfAm8sj"
      }
    },
    {
      "cell_type": "code",
      "source": [
        "for i in range(1, 21):\n",
        "    if i % 2 == 0:\n",
        "        print(i)"
      ],
      "metadata": {
        "id": "svsuba_Km--r"
      },
      "execution_count": null,
      "outputs": []
    },
    {
      "cell_type": "markdown",
      "source": [
        "## 🧪 Practice Exercise 2\n",
        "\n",
        "Write a program that prints each item in a list of numbers and its square."
      ],
      "metadata": {
        "id": "i2j_UOvnnEP-"
      }
    },
    {
      "cell_type": "code",
      "source": [
        "numbers = [1, 2, 3, 4, 5]\n",
        "for num in numbers:\n",
        "    print(f\"{num} squared is {num ** 2}\")\n"
      ],
      "metadata": {
        "id": "2vR4s1ZKnCL9"
      },
      "execution_count": null,
      "outputs": []
    },
    {
      "cell_type": "markdown",
      "source": [
        "✅ Great! You've now learned how to use `for` loops effectively in Python.\n",
        "\n",
        "Keep practicing to build fluency with loops and iteration!"
      ],
      "metadata": {
        "id": "-C5BjEb5nHJt"
      }
    },
    {
      "cell_type": "markdown",
      "source": [
        "# 🧮 Functions\n",
        "\n",
        "In this notebook, you'll learn how to define and use **functions** in Python to write reusable, modular code.\n",
        "\n",
        "📌 Topics:\n",
        "- What is a function?\n",
        "- Defining a function using `def`\n",
        "- Parameters and arguments\n",
        "- Return values\n",
        "- Default arguments\n",
        "- Practice exercises"
      ],
      "metadata": {
        "id": "fBGiEt6CnX5N"
      }
    },
    {
      "cell_type": "markdown",
      "source": [
        "## 🧱 What is a Function?\n",
        "\n",
        "A **function** is a block of code that runs only when it is called.  \n",
        "Functions help organize code and avoid repetition."
      ],
      "metadata": {
        "id": "Zy27i4EXncEn"
      }
    },
    {
      "cell_type": "code",
      "source": [
        "# Basic function definition and call\n",
        "def greet():\n",
        "    print(\"Hello, welcome to Python 101!\")\n",
        "\n",
        "greet()"
      ],
      "metadata": {
        "id": "cYV_5QpunHi_"
      },
      "execution_count": null,
      "outputs": []
    },
    {
      "cell_type": "markdown",
      "source": [
        "## 🔢 Parameters and Arguments\n",
        "\n",
        "You can pass data into functions using **parameters**."
      ],
      "metadata": {
        "id": "COw1fUVrnfaz"
      }
    },
    {
      "cell_type": "code",
      "source": [
        "def greet(name):\n",
        "    print(\"Hello,\", name)\n",
        "\n",
        "greet(\"Alice\")\n",
        "greet(\"Bob\")"
      ],
      "metadata": {
        "id": "o1pq0E6_nf6v"
      },
      "execution_count": null,
      "outputs": []
    },
    {
      "cell_type": "markdown",
      "source": [
        "## 🔁 Return Values\n",
        "\n",
        "Use the `return` keyword to get a result from a function."
      ],
      "metadata": {
        "id": "1SeLI6yrni1w"
      }
    },
    {
      "cell_type": "code",
      "source": [
        "def add(a, b):\n",
        "    return a + b\n",
        "\n",
        "result = add(10, 20)\n",
        "print(\"Sum:\", result)"
      ],
      "metadata": {
        "id": "y5Egj8T0njN7"
      },
      "execution_count": null,
      "outputs": []
    },
    {
      "cell_type": "markdown",
      "source": [
        "## ⚙️ Default Arguments\n",
        "\n",
        "You can provide default values to parameters."
      ],
      "metadata": {
        "id": "GL31UBdHnlsG"
      }
    },
    {
      "cell_type": "code",
      "source": [
        "def greet(name=\"Guest\"):\n",
        "    print(\"Hello,\", name)\n",
        "\n",
        "greet(\"Charlie\")\n",
        "greet()"
      ],
      "metadata": {
        "id": "c8CQZVL7nmFv"
      },
      "execution_count": null,
      "outputs": []
    },
    {
      "cell_type": "markdown",
      "source": [
        "## 📦 Multiple Return Values\n",
        "\n",
        "Functions can return multiple values using tuples."
      ],
      "metadata": {
        "id": "VjrXsDsXnouR"
      }
    },
    {
      "cell_type": "code",
      "source": [
        "def stats(numbers):\n",
        "    total = sum(numbers)\n",
        "    count = len(numbers)\n",
        "    average = total / count\n",
        "    return total, average\n",
        "\n",
        "my_nums = [10, 20, 30]\n",
        "t, avg = stats(my_nums)\n",
        "print(\"Total:\", t)\n",
        "print(\"Average:\", avg)\n"
      ],
      "metadata": {
        "id": "FvCaVeYEnpM3"
      },
      "execution_count": null,
      "outputs": []
    },
    {
      "cell_type": "markdown",
      "source": [
        "## 📝 Practice Exercise 1\n",
        "\n",
        "Write a function `is_even(number)` that returns True if the number is even."
      ],
      "metadata": {
        "id": "HCkpdsS1nvC9"
      }
    },
    {
      "cell_type": "code",
      "source": [
        "def is_even(number):\n",
        "    return number % 2 == 0\n",
        "\n",
        "print(is_even(4))   # True\n",
        "print(is_even(7))   # False\n"
      ],
      "metadata": {
        "id": "pMimCSyInvgT"
      },
      "execution_count": null,
      "outputs": []
    },
    {
      "cell_type": "markdown",
      "source": [
        "## 🧪 Practice Exercise 2\n",
        "\n",
        "Write a function `circle_area(radius)` that returns the area of a circle using the formula:\n",
        "\n",
        "$${Area} = \\pi r^2$$"
      ],
      "metadata": {
        "id": "5QdSgyzEnyYl"
      }
    },
    {
      "cell_type": "code",
      "source": [
        "import math\n",
        "\n",
        "def circle_area(radius):\n",
        "    return math.pi * radius ** 2\n",
        "\n",
        "print(\"Area:\", circle_area(5))\n"
      ],
      "metadata": {
        "id": "gVXPhi_Sn0dv"
      },
      "execution_count": null,
      "outputs": []
    },
    {
      "cell_type": "markdown",
      "source": [
        "✅ Great work! You’ve learned how to define, call, and use functions in Python.\n",
        "\n",
        "Functions are essential for clean, reusable, and scalable code."
      ],
      "metadata": {
        "id": "gQ7pCtsnn4Xl"
      }
    },
    {
      "cell_type": "markdown",
      "source": [
        "# Introduction to Pandas\n",
        "In this notebook, we will learn how to use Pandas for data analysis.  \n",
        "We'll use the dataset `daily_fish_log_csv.csv` and explore common data analysis tasks.\n"
      ],
      "metadata": {
        "id": "AN_yT1JXIutd"
      }
    },
    {
      "cell_type": "code",
      "source": [
        "import pandas as pd\n",
        "import numpy as np"
      ],
      "metadata": {
        "id": "g_LjgOMNIv9_"
      },
      "execution_count": null,
      "outputs": []
    },
    {
      "cell_type": "markdown",
      "source": [
        "## 1. Load Data\n",
        "We will load the fish log data from the CSV file using `pd.read_csv()`."
      ],
      "metadata": {
        "id": "rqozmznVIyjI"
      }
    },
    {
      "cell_type": "code",
      "source": [
        "df = pd.read_csv(\"daily_fish_log_csv.csv\")\n",
        "df.head()"
      ],
      "metadata": {
        "id": "q9s2DOScIy9c"
      },
      "execution_count": null,
      "outputs": []
    },
    {
      "cell_type": "markdown",
      "source": [
        "## 📁 Optional: Access Data from Google Drive or Upload File\n",
        "\n",
        "You can either:\n",
        "- 🔓 Mount your Google Drive and access a file from a folder, or\n",
        "- 📤 Upload the dataset directly from your computer"
      ],
      "metadata": {
        "id": "SQf7AaRxTNch"
      }
    },
    {
      "cell_type": "markdown",
      "source": [
        "### 📌 Option 1: Mount Google Drive and Load from a Folder"
      ],
      "metadata": {
        "id": "wHjreG7BTTNr"
      }
    },
    {
      "cell_type": "code",
      "source": [
        "from google.colab import drive\n",
        "drive.mount('/content/drive')\n",
        "\n",
        "# Example path: adjust to match your folder\n",
        "file_path = '/content/drive/MyDrive/fish_data/daily_fish_log_csv.csv'\n",
        "\n",
        "import pandas as pd\n",
        "df = pd.read_csv(file_path)\n",
        "df.head()"
      ],
      "metadata": {
        "id": "mp74B_2KTUFJ"
      },
      "execution_count": null,
      "outputs": []
    },
    {
      "cell_type": "markdown",
      "source": [
        "### 📌 Option 2: Upload CSV File Manually"
      ],
      "metadata": {
        "id": "RdcYG1JBTaKz"
      }
    },
    {
      "cell_type": "code",
      "source": [
        "from google.colab import files\n",
        "uploaded = files.upload()\n",
        "\n",
        "# Automatically loads the first uploaded file\n",
        "import io\n",
        "df = pd.read_csv(io.BytesIO(next(iter(uploaded.values()))))\n",
        "df.head()"
      ],
      "metadata": {
        "id": "4qGQ-5g4Tdgq"
      },
      "execution_count": null,
      "outputs": []
    },
    {
      "cell_type": "markdown",
      "source": [
        "## 2. Explore Dataset\n",
        "Let's check the basic information and summary statistics of our dataset."
      ],
      "metadata": {
        "id": "lBlePEsjI1y1"
      }
    },
    {
      "cell_type": "code",
      "source": [
        "# Check the structure of the data\n",
        "df.info()\n",
        "\n",
        "# Summary statistics\n",
        "df.describe()\n",
        "\n",
        "# Unique species\n",
        "df['Species'].unique()"
      ],
      "metadata": {
        "id": "YlIbRN8WI9pH"
      },
      "execution_count": null,
      "outputs": []
    },
    {
      "cell_type": "markdown",
      "source": [
        "## 3. Data Cleaning\n",
        "We will check for missing values and duplicates."
      ],
      "metadata": {
        "id": "pOktBalBJHoa"
      }
    },
    {
      "cell_type": "code",
      "source": [
        "# Check for missing values\n",
        "df.isnull().sum()\n",
        "\n",
        "# Check for duplicates\n",
        "df.duplicated().sum()"
      ],
      "metadata": {
        "id": "RbJc6QQyJH-v"
      },
      "execution_count": null,
      "outputs": []
    },
    {
      "cell_type": "markdown",
      "source": [
        "## 4. Data Analysis\n",
        "Let's analyze:\n",
        "- Total fish weight by species\n",
        "- Average price per species\n",
        "- Daily total revenue"
      ],
      "metadata": {
        "id": "INDVDUtDJLA0"
      }
    },
    {
      "cell_type": "code",
      "source": [
        "# Total weight per species\n",
        "total_weight = df.groupby('Species')['Weight_kg'].sum()\n",
        "\n",
        "# Average price per species\n",
        "avg_price = df.groupby('Species')['Price_per_kg'].mean()\n",
        "\n",
        "# Daily total revenue\n",
        "df['Revenue'] = df['Weight_kg'] * df['Price_per_kg']\n",
        "daily_revenue = df.groupby('Date')['Revenue'].sum()\n",
        "\n",
        "total_weight, avg_price, daily_revenue"
      ],
      "metadata": {
        "id": "xelUnf98JLVg"
      },
      "execution_count": null,
      "outputs": []
    },
    {
      "cell_type": "markdown",
      "source": [
        "## 5. Data Visualization\n",
        "We will plot:\n",
        "- Total weight by species\n",
        "- Daily revenue trends"
      ],
      "metadata": {
        "id": "jjnV_FlMJPzN"
      }
    },
    {
      "cell_type": "code",
      "source": [
        "import matplotlib.pyplot as plt\n",
        "\n",
        "# Total weight per species\n",
        "total_weight.plot(kind='bar', title='Total Weight by Species', ylabel='Weight (kg)')\n",
        "plt.show()\n",
        "\n",
        "# Daily revenue trend\n",
        "daily_revenue.plot(kind='line', marker='o', title='Daily Revenue Trend', ylabel='Revenue')\n",
        "plt.show()"
      ],
      "metadata": {
        "id": "lhBDJDKDJRlc"
      },
      "execution_count": null,
      "outputs": []
    },
    {
      "cell_type": "markdown",
      "source": [
        "## ✅ Feature Engineering\n",
        "📅 Extracting Date Features\n",
        "Dates can hold rich temporal information for modeling. We’ll extract features such as:\n",
        "\n",
        "- Day of week (Monday–Sunday)\n",
        "\n",
        "- Month\n",
        "\n",
        "- Quarter\n",
        "\n",
        "- Season (manually mapped)\n",
        "\n",
        "- Year"
      ],
      "metadata": {
        "id": "8Fxm60S6JM8g"
      }
    },
    {
      "cell_type": "code",
      "source": [
        "df['date'] = pd.to_datetime(df['date'], errors='coerce')\n",
        "\n",
        "# Extract date-based features\n",
        "df['day_of_week'] = df['date'].dt.day_name()\n",
        "df['month'] = df['date'].dt.month\n",
        "df['year'] = df['date'].dt.year\n",
        "df['quarter'] = df['date'].dt.quarter\n",
        "\n",
        "# Map seasons (assuming northern hemisphere)\n",
        "def map_season(month):\n",
        "    if month in [12, 1, 2]:\n",
        "        return 'Winter'\n",
        "    elif month in [3, 4, 5]:\n",
        "        return 'Spring'\n",
        "    elif month in [6, 7, 8]:\n",
        "        return 'Summer'\n",
        "    else:\n",
        "        return 'Autumn'\n",
        "\n",
        "df['season'] = df['month'].apply(map_season)\n",
        "\n",
        "df[['date', 'day_of_week', 'month', 'quarter', 'season']].head()"
      ],
      "metadata": {
        "id": "K9nsjCx9NzZn"
      },
      "execution_count": null,
      "outputs": []
    },
    {
      "cell_type": "markdown",
      "source": [
        "## 🧩 Encoding Categorical Variables\n",
        "Machine learning models require numeric input. We convert text-based categorical data into numeric form using encoding techniques:\n",
        "\n",
        "- Label Encoding: Useful for ordinal variables.\n",
        "\n",
        "- One-Hot Encoding: Creates binary columns for each category (no implicit order).\n",
        "\n",
        "We’ll encode:\n",
        "\n",
        "- `species` (fish type)\n",
        "\n",
        "- `season`\n",
        "\n",
        "- Any other object columns (e.g. location, method) if available"
      ],
      "metadata": {
        "id": "OhuyYl1vOGZz"
      }
    },
    {
      "cell_type": "code",
      "source": [
        "from sklearn.preprocessing import LabelEncoder\n",
        "\n",
        "# Label encode species and season\n",
        "le_species = LabelEncoder()\n",
        "df['species_encoded'] = le_species.fit_transform(df['species'])\n",
        "\n",
        "le_season = LabelEncoder()\n",
        "df['season_encoded'] = le_season.fit_transform(df['season'])\n",
        "\n",
        "# One-hot encode day_of_week\n",
        "df = pd.get_dummies(df, columns=['day_of_week'], prefix='dow')\n",
        "\n",
        "df[['species', 'species_encoded', 'season', 'season_encoded'] + [col for col in df.columns if col.startswith('dow_')]].head()"
      ],
      "metadata": {
        "id": "PO9Gn14FOHCb"
      },
      "execution_count": null,
      "outputs": []
    },
    {
      "cell_type": "markdown",
      "source": [
        "🧠 Why Feature Engineering Matters\n",
        "Feature engineering can significantly improve model performance by:\n",
        "\n",
        "- Providing additional signal to the model\n",
        "\n",
        "- Making temporal patterns more explicit\n",
        "\n",
        "- Helping models generalize to unseen patterns"
      ],
      "metadata": {
        "id": "e99drouFOZZI"
      }
    },
    {
      "cell_type": "markdown",
      "source": [
        "# 📊 Basic Statistical Analysis\n",
        "📌 Overview\n",
        "Statistical analysis provides insights into the distribution and relationships within the data. In this section, we will:\n",
        "\n",
        "Calculate mean, median, and mode of catch-related values.\n",
        "\n",
        "Use Interquartile Range (IQR) to detect outliers.\n",
        "\n",
        "Explore correlation between numeric features.\n",
        "\n",
        "Visualize relationships with pairplots.\n",
        "\n"
      ],
      "metadata": {
        "id": "h1gUfUZQOkwo"
      }
    },
    {
      "cell_type": "markdown",
      "source": [
        "## 📈 Mean, Median, Mode of Catch Weight\n",
        "We'll examine the central tendency of the fish catch weight to understand typical values.\n"
      ],
      "metadata": {
        "id": "SIfGpZ9eOw2D"
      }
    },
    {
      "cell_type": "code",
      "source": [
        "# Replace 'weight' with the correct column name if needed\n",
        "print(\"Mean Weight:\", df['weight'].mean())\n",
        "print(\"Median Weight:\", df['weight'].median())\n",
        "print(\"Mode Weight:\", df['weight'].mode().values)"
      ],
      "metadata": {
        "id": "f5W3aFz0OVAm"
      },
      "execution_count": null,
      "outputs": []
    },
    {
      "cell_type": "markdown",
      "source": [
        "## 🚨 Detecting Outliers with IQR\n",
        "Outliers are extreme values that may distort analysis. The IQR method identifies them by comparing each value to the interquartile range (Q3 - Q1).\n"
      ],
      "metadata": {
        "id": "fyE4g0tsO-fF"
      }
    },
    {
      "cell_type": "code",
      "source": [
        "# Calculate Q1 (25th percentile) and Q3 (75th percentile)\n",
        "Q1 = df['weight'].quantile(0.25)\n",
        "Q3 = df['weight'].quantile(0.75)\n",
        "IQR = Q3 - Q1\n",
        "\n",
        "# Define outliers\n",
        "lower_bound = Q1 - 1.5 * IQR\n",
        "upper_bound = Q3 + 1.5 * IQR\n",
        "\n",
        "# Filter outliers\n",
        "outliers = df[(df['weight'] < lower_bound) | (df['weight'] > upper_bound)]\n",
        "\n",
        "print(\"Number of Outliers:\", len(outliers))\n",
        "outliers[['date', 'species', 'weight']]"
      ],
      "metadata": {
        "id": "xRf07geDO_zk"
      },
      "execution_count": null,
      "outputs": []
    },
    {
      "cell_type": "markdown",
      "source": [
        "##🔗 Correlation Matrix\n",
        "A correlation matrix shows how strongly numeric variables relate to each other."
      ],
      "metadata": {
        "id": "qxEsbEXKPFMf"
      }
    },
    {
      "cell_type": "code",
      "source": [
        "import seaborn as sns\n",
        "import matplotlib.pyplot as plt\n",
        "\n",
        "# Compute correlation\n",
        "corr = df.corr(numeric_only=True)\n",
        "\n",
        "# Heatmap\n",
        "plt.figure(figsize=(8, 5))\n",
        "sns.heatmap(corr, annot=True, cmap='coolwarm', fmt=\".2f\")\n",
        "plt.title(\"Correlation Matrix\")\n",
        "plt.show()"
      ],
      "metadata": {
        "id": "s1oKtoyIPF64"
      },
      "execution_count": null,
      "outputs": []
    },
    {
      "cell_type": "markdown",
      "source": [
        "## 🧮 Pairplot for Visual Relationship\n",
        "Pairplots allow us to view pairwise relationships between features and can reveal clusters or trends."
      ],
      "metadata": {
        "id": "EWurRY9pPJ7z"
      }
    },
    {
      "cell_type": "code",
      "source": [
        "# Select numeric columns or subset\n",
        "numeric_cols = ['weight', 'month', 'season_encoded', 'species_encoded']\n",
        "\n",
        "# Plot pairplot\n",
        "sns.pairplot(df[numeric_cols])"
      ],
      "metadata": {
        "id": "dxmT0WMXPKwC"
      },
      "execution_count": null,
      "outputs": []
    },
    {
      "cell_type": "markdown",
      "source": [
        "# 🤖 Intro to Machine Learning (Scikit-learn)\n",
        "🎯 Goal\n",
        "Use basic ML models to predict fish catch weight from engineered features like species, date, and season.\n",
        "\n"
      ],
      "metadata": {
        "id": "m-VhzC5UPf7j"
      }
    },
    {
      "cell_type": "markdown",
      "source": [
        "## 🧪 Step 1: Prepare Features and Target\n",
        "We will use:\n",
        "\n",
        "- Encoded features: `species_encoded`, `month`, `season_encoded`\n",
        "\n",
        "- Target: `weight`"
      ],
      "metadata": {
        "id": "-YqRuZA9Pi_4"
      }
    },
    {
      "cell_type": "code",
      "source": [
        "from sklearn.model_selection import train_test_split\n",
        "\n",
        "# Define features and target\n",
        "features = ['species_encoded', 'month', 'season_encoded']\n",
        "target = 'weight'\n",
        "\n",
        "X = df[features]\n",
        "y = df[target]\n",
        "\n",
        "# Split into train and test sets\n",
        "X_train, X_test, y_train, y_test = train_test_split(X, y, test_size=0.2, random_state=42)\n"
      ],
      "metadata": {
        "id": "Z50btWzYPMAm"
      },
      "execution_count": null,
      "outputs": []
    },
    {
      "cell_type": "markdown",
      "source": [
        "## 📈 Step 2: Train Regression Models\n",
        "We’ll train and compare 3 basic models:\n",
        "\n",
        "- `LinearRegression`\n",
        "\n",
        "- `DecisionTreeRegressor`\n",
        "\n",
        "- `RandomForestRegressor`"
      ],
      "metadata": {
        "id": "B3Ob3bIdPrnh"
      }
    },
    {
      "cell_type": "code",
      "source": [
        "from sklearn.linear_model import LinearRegression\n",
        "from sklearn.tree import DecisionTreeRegressor\n",
        "from sklearn.ensemble import RandomForestRegressor\n",
        "\n",
        "# Initialize models\n",
        "lr = LinearRegression()\n",
        "dt = DecisionTreeRegressor(random_state=42)\n",
        "rf = RandomForestRegressor(random_state=42)\n",
        "\n",
        "# Train each model\n",
        "lr.fit(X_train, y_train)\n",
        "dt.fit(X_train, y_train)\n",
        "rf.fit(X_train, y_train)"
      ],
      "metadata": {
        "id": "NEmfDaPsPt_l"
      },
      "execution_count": null,
      "outputs": []
    },
    {
      "cell_type": "markdown",
      "source": [
        "## 📊 Step 3: Evaluate the Models\n",
        "We’ll use:\n",
        "\n",
        "- Mean Absolute Error (MAE)\n",
        "\n",
        "- Mean Squared Error (MSE)\n",
        "\n",
        "- R² Score"
      ],
      "metadata": {
        "id": "pgoqJvr-QTZ6"
      }
    },
    {
      "cell_type": "code",
      "source": [
        "from sklearn.metrics import mean_absolute_error, mean_squared_error, r2_score\n",
        "\n",
        "models = {'Linear Regression': lr, 'Decision Tree': dt, 'Random Forest': rf}\n",
        "\n",
        "for name, model in models.items():\n",
        "    y_pred = model.predict(X_test)\n",
        "    print(f\"--- {name} ---\")\n",
        "    print(\"MAE:\", mean_absolute_error(y_test, y_pred))\n",
        "    print(\"MSE:\", mean_squared_error(y_test, y_pred))\n",
        "    print(\"R² Score:\", r2_score(y_test, y_pred))\n",
        "    print()"
      ],
      "metadata": {
        "id": "7Evzz-GvQVot"
      },
      "execution_count": null,
      "outputs": []
    },
    {
      "cell_type": "markdown",
      "source": [
        "##🧪 (Optional) Step 4: Classification (e.g., Predict Fish Species)\n",
        "If your dataset includes labels (like species), you can switch to classification:"
      ],
      "metadata": {
        "id": "HF7_FWPvQYu3"
      }
    },
    {
      "cell_type": "code",
      "source": [
        "from sklearn.ensemble import RandomForestClassifier\n",
        "from sklearn.metrics import accuracy_score, classification_report\n",
        "\n",
        "# (Optional) Classification: Predict species from season and month\n",
        "X_cls = df[['month', 'season_encoded']]\n",
        "y_cls = df['species_encoded']\n",
        "\n",
        "X_train_c, X_test_c, y_train_c, y_test_c = train_test_split(X_cls, y_cls, test_size=0.2, random_state=42)\n",
        "\n",
        "clf = RandomForestClassifier(random_state=42)\n",
        "clf.fit(X_train_c, y_train_c)\n",
        "y_pred_c = clf.predict(X_test_c)\n",
        "\n",
        "print(\"Classification Accuracy:\", accuracy_score(y_test_c, y_pred_c))\n",
        "print(classification_report(y_test_c, y_pred_c))"
      ],
      "metadata": {
        "id": "Zs3hiq0BQaNL"
      },
      "execution_count": null,
      "outputs": []
    },
    {
      "cell_type": "markdown",
      "source": [
        "# 📤 Exporting Results"
      ],
      "metadata": {
        "id": "8QEy9HA2Qp3U"
      }
    },
    {
      "cell_type": "markdown",
      "source": [
        "##📝 Save Cleaned Data to CSV\n",
        "After data cleaning and feature engineering, we can save the processed dataset for future use."
      ],
      "metadata": {
        "id": "Kh7qDwjEQua5"
      }
    },
    {
      "cell_type": "code",
      "source": [
        "# Save cleaned dataset to CSV\n",
        "df.to_csv(\"cleaned_fish_data.csv\", index=False)\n",
        "print(\"Cleaned data saved as cleaned_fish_data.csv\")"
      ],
      "metadata": {
        "id": "BfNi-zSnQrsG"
      },
      "execution_count": null,
      "outputs": []
    },
    {
      "cell_type": "markdown",
      "source": [
        "## 🖼 Export Plots\n",
        "Matplotlib figures can be saved directly to files (PNG, JPG, etc.) using `plt.savefig()`."
      ],
      "metadata": {
        "id": "D5LYGWdKQyf2"
      }
    },
    {
      "cell_type": "code",
      "source": [
        "# Example: Save a correlation heatmap as PNG\n",
        "plt.figure(figsize=(8, 5))\n",
        "sns.heatmap(df.corr(numeric_only=True), annot=True, cmap='coolwarm', fmt=\".2f\")\n",
        "plt.title(\"Correlation Matrix\")\n",
        "\n",
        "plt.savefig(\"correlation_heatmap.png\", dpi=300, bbox_inches='tight')\n",
        "print(\"Correlation heatmap saved as correlation_heatmap.png\")\n",
        "plt.close()"
      ],
      "metadata": {
        "id": "lBYvqtvPQ1J9"
      },
      "execution_count": null,
      "outputs": []
    },
    {
      "cell_type": "markdown",
      "source": [
        "##📊 Export Model Predictions\n",
        "We can save predictions from trained models (e.g., RandomForestRegressor) along with the test set."
      ],
      "metadata": {
        "id": "hnEIY30IRU5R"
      }
    },
    {
      "cell_type": "code",
      "source": [
        "# Generate predictions\n",
        "y_pred_rf = rf.predict(X_test)\n",
        "\n",
        "# Create a DataFrame with actual and predicted values\n",
        "results = X_test.copy()\n",
        "results['Actual_Weight'] = y_test.values\n",
        "results['Predicted_Weight'] = y_pred_rf\n",
        "\n",
        "# Save results to CSV\n",
        "results.to_csv(\"model_predictions.csv\", index=False)\n",
        "print(\"Model predictions saved as model_predictions.csv\")\n",
        "\n",
        "results.head()"
      ],
      "metadata": {
        "id": "ZdX29KQ_RXS5"
      },
      "execution_count": null,
      "outputs": []
    },
    {
      "cell_type": "markdown",
      "source": [
        "# 🎉 Conclusion\n",
        "\n",
        "Congratulations! You’ve completed the **Basic Python for Data Science & AI** notebook. Here's what you've accomplished:\n",
        "\n",
        "✅ Loaded and explored a real-world dataset  \n",
        "✅ Cleaned, transformed, and visualized the data  \n",
        "✅ Engineered new features from dates and categories  \n",
        "✅ Performed basic statistical analysis and identified outliers  \n",
        "✅ Built simple ML models to predict fish catch weight  \n",
        "✅ Exported results and plots for reporting\n",
        "\n",
        "---\n",
        "\n",
        "### 🧠 Key Takeaways\n",
        "- Data understanding is critical before modeling\n",
        "- Feature engineering enhances model performance\n",
        "- Start simple, then iterate with more complexity\n",
        "- Visualization reveals hidden patterns\n",
        "- Exporting your work helps you share insights\n",
        "\n",
        "---\n",
        "\n",
        "### 🚀 Next Steps\n",
        "- Try adding new features (e.g., time of day, location zones)\n",
        "- Experiment with more ML models or tuning hyperparameters\n",
        "- Share your insights using dashboards or reports\n",
        "\n",
        "Happy Learning! 🎓🐟"
      ],
      "metadata": {
        "id": "C8QVyLamRvjs"
      }
    },
    {
      "cell_type": "code",
      "source": [],
      "metadata": {
        "id": "MCiUOR15Rv_d"
      },
      "execution_count": null,
      "outputs": []
    }
  ]
}