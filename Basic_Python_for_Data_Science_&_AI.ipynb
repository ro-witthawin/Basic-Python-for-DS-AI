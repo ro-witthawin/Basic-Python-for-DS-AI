{
  "nbformat": 4,
  "nbformat_minor": 0,
  "metadata": {
    "colab": {
      "provenance": [],
      "authorship_tag": "ABX9TyPZ+pcHyPpI15EoPLPLh2Qu",
      "include_colab_link": true
    },
    "kernelspec": {
      "name": "python3",
      "display_name": "Python 3"
    },
    "language_info": {
      "name": "python"
    }
  },
  "cells": [
    {
      "cell_type": "markdown",
      "metadata": {
        "id": "view-in-github",
        "colab_type": "text"
      },
      "source": [
        "<a href=\"https://colab.research.google.com/github/ro-witthawin/Basic-Python-for-DS-AI/blob/main/Basic_Python_for_Data_Science_%26_AI.ipynb\" target=\"_parent\"><img src=\"https://colab.research.google.com/assets/colab-badge.svg\" alt=\"Open In Colab\"/></a>"
      ]
    },
    {
      "cell_type": "markdown",
      "source": [
        "# 🐍 Basic Python for Data Science & AI\n",
        "Welcome to this hands-on Colab session!\n",
        "\n",
        "In this notebook, we’ll learn the essential steps in a typical data science workflow using **Python**, **pandas**, **matplotlib**, **seaborn**, and **scikit-learn**.\n",
        "\n",
        "We'll work on a real dataset: **Daily Fish Log** – which contains fishing records including date, species, and catch weight.\n",
        "\n",
        "---\n",
        "\n",
        "### 🧭 What You Will Learn\n",
        "- How to load and explore data with `pandas`\n",
        "- Data cleaning and preparation\n",
        "- Visualizing trends and patterns\n",
        "- Feature engineering techniques\n",
        "- Basic statistical analysis\n",
        "- Building simple machine learning models\n",
        "- Exporting results\n",
        "\n",
        "---\n",
        "\n",
        "> 🔧 No prior machine learning experience needed — just some Python basics!"
      ],
      "metadata": {
        "id": "QwP90ZqsRrNd"
      }
    },
    {
      "cell_type": "markdown",
      "source": [
        "# 🧠 Logic & Boolean\n",
        "\n",
        "In this notebook, you will learn the foundations of logic and boolean expressions in Python.\n",
        "\n",
        "📌 Topics:\n",
        "- Boolean values\n",
        "- Comparison operators\n",
        "- Logical operators\n",
        "- If statements\n",
        "- Practice exercises"
      ],
      "metadata": {
        "id": "AGOrZ7K7lhv8"
      }
    },
    {
      "cell_type": "code",
      "source": [
        "# Boolean Values\n",
        "print(True)\n",
        "print(False)\n",
        "\n",
        "# Type of boolean\n",
        "print(type(True))\n",
        "print(type(False))"
      ],
      "metadata": {
        "id": "x9Cw5QzEliOp",
        "colab": {
          "base_uri": "https://localhost:8080/"
        },
        "outputId": "c953b698-b3a9-4adc-a5c7-1a4e484890ea"
      },
      "execution_count": 1,
      "outputs": [
        {
          "output_type": "stream",
          "name": "stdout",
          "text": [
            "True\n",
            "False\n",
            "<class 'bool'>\n",
            "<class 'bool'>\n"
          ]
        }
      ]
    },
    {
      "cell_type": "markdown",
      "source": [
        "## 🔍 Comparison Operators\n",
        "\n",
        "| Operator | Description         | Example        |\n",
        "|----------|---------------------|----------------|\n",
        "| ==       | Equal to            | 3 == 3 → True  |\n",
        "| !=       | Not equal to        | 3 != 4 → True  |\n",
        "| >        | Greater than        | 5 > 2 → True   |\n",
        "| <        | Less than           | 1 < 3 → True   |\n",
        "| >=       | Greater or equal    | 5 >= 5 → True  |\n",
        "| <=       | Less or equal       | 3 <= 4 → True  |"
      ],
      "metadata": {
        "id": "E8QSSp88llhZ"
      }
    },
    {
      "cell_type": "code",
      "source": [
        "# Comparison Examples\n",
        "print(5 == 5)\n",
        "print(7 != 2)\n",
        "print(3 < 10)\n",
        "print(6 >= 9)"
      ],
      "metadata": {
        "id": "kQmQ0bqhlkHN"
      },
      "execution_count": null,
      "outputs": []
    },
    {
      "cell_type": "markdown",
      "source": [
        "## 🔗 Logical Operators\n",
        "\n",
        "| Operator | Description                | Example            |\n",
        "|----------|----------------------------|--------------------|\n",
        "| and      | True if both are true      | True and False     |\n",
        "| or       | True if one is true        | False or True      |\n",
        "| not      | Inverts the result         | not True → False   |"
      ],
      "metadata": {
        "id": "IQwfS3oKlp8M"
      }
    },
    {
      "cell_type": "code",
      "source": [
        "# Logical Operator Examples\n",
        "print(True and True)\n",
        "print(True and False)\n",
        "print(False or True)\n",
        "print(not False)"
      ],
      "metadata": {
        "id": "WrSdSrBTlpDn"
      },
      "execution_count": null,
      "outputs": []
    },
    {
      "cell_type": "markdown",
      "source": [
        "## 🔄 Conditional Statements (if, elif, else)"
      ],
      "metadata": {
        "id": "-262_KarltcO"
      }
    },
    {
      "cell_type": "code",
      "source": [
        "x = 15\n",
        "\n",
        "if x > 10:\n",
        "    print(\"x is greater than 10\")\n",
        "elif x == 10:\n",
        "    print(\"x is exactly 10\")\n",
        "else:\n",
        "    print(\"x is less than 10\")"
      ],
      "metadata": {
        "id": "UlFsMBnbltyT"
      },
      "execution_count": null,
      "outputs": []
    },
    {
      "cell_type": "markdown",
      "source": [
        "## 📝 Practice Exercise 1\n",
        "\n",
        "Write a program that checks whether a number is positive, negative, or zero."
      ],
      "metadata": {
        "id": "xDgHO9qNlyCZ"
      }
    },
    {
      "cell_type": "code",
      "source": [
        "number = float(input(\"Enter a number: \"))\n",
        "\n",
        "# TODO: Write your logic here\n",
        "if number > 0:\n",
        "    print(\"Positive number\")\n",
        "elif number < 0:\n",
        "    print(\"Negative number\")\n",
        "else:\n",
        "    print(\"Zero\")"
      ],
      "metadata": {
        "id": "sA1SxvDJlwHZ"
      },
      "execution_count": null,
      "outputs": []
    },
    {
      "cell_type": "markdown",
      "source": [
        "## 🧪 Practice Exercise 2\n",
        "\n",
        "Check if a student has passed. A student passes if their score is 50 or above."
      ],
      "metadata": {
        "id": "VtL-t8w_l2SG"
      }
    },
    {
      "cell_type": "code",
      "source": [
        "score = int(input(\"Enter your score: \"))\n",
        "\n",
        "# TODO: Write your logic here\n",
        "if score >= 50:\n",
        "    print(\"Passed\")\n",
        "else:\n",
        "    print(\"Failed\")\n"
      ],
      "metadata": {
        "id": "Uhae9BbIl3DN"
      },
      "execution_count": null,
      "outputs": []
    },
    {
      "cell_type": "markdown",
      "source": [
        "✅ Great job! You’ve now learned the basics of logic and boolean operations in Python.\n",
        "\n",
        "Keep practicing to master control flow and decision making."
      ],
      "metadata": {
        "id": "_IXHLJI6l58G"
      }
    },
    {
      "cell_type": "markdown",
      "source": [
        "# 🔢 Integers, Floats & Math Operations\n",
        "\n",
        "In this lesson, you’ll learn how Python handles numbers — both integers and floating-point numbers — and how to perform basic arithmetic operations.\n",
        "\n",
        "📌 Topics:\n",
        "- Integer and Float types\n",
        "- Basic arithmetic operations\n",
        "- Type conversion\n",
        "- Math library (import math)\n",
        "- Practice problems"
      ],
      "metadata": {
        "id": "YQkBsYUZl9RW"
      }
    },
    {
      "cell_type": "code",
      "source": [
        "# Integer and Float Examples\n",
        "print(10)           # Integer\n",
        "print(3.14)         # Float\n",
        "print(type(10))     # <class 'int'>\n",
        "print(type(3.14))   # <class 'float'>"
      ],
      "metadata": {
        "id": "m8y1Ie1nl6sl"
      },
      "execution_count": null,
      "outputs": []
    },
    {
      "cell_type": "markdown",
      "source": [
        "## ➕ Arithmetic Operators\n",
        "\n",
        "| Operator | Description      | Example         |\n",
        "|----------|------------------|-----------------|\n",
        "| +        | Addition         | 2 + 3 → 5       |\n",
        "| -        | Subtraction      | 5 - 2 → 3       |\n",
        "| *        | Multiplication   | 4 * 2 → 8       |\n",
        "| /        | Division         | 10 / 2 → 5.0    |\n",
        "| //       | Floor Division   | 10 // 3 → 3     |\n",
        "| %        | Modulus          | 10 % 3 → 1      |\n",
        "| **       | Exponentiation   | 2 ** 3 → 8      |"
      ],
      "metadata": {
        "id": "CCTdKshYmCsW"
      }
    },
    {
      "cell_type": "code",
      "source": [
        "# Arithmetic Examples\n",
        "a = 10\n",
        "b = 3\n",
        "\n",
        "print(\"Addition:\", a + b)\n",
        "print(\"Subtraction:\", a - b)\n",
        "print(\"Multiplication:\", a * b)\n",
        "print(\"Division:\", a / b)\n",
        "print(\"Floor Division:\", a // b)\n",
        "print(\"Modulus:\", a % b)\n",
        "print(\"Exponentiation:\", a ** b)"
      ],
      "metadata": {
        "id": "_eDIkO-FmDDb"
      },
      "execution_count": null,
      "outputs": []
    },
    {
      "cell_type": "markdown",
      "source": [
        "## 🔁 Type Conversion\n",
        "\n",
        "Sometimes, you need to convert between integers and floats:\n",
        "- `int()` converts to integer (truncates decimal)\n",
        "- `float()` converts to float"
      ],
      "metadata": {
        "id": "zHrSr4T8mGj_"
      }
    },
    {
      "cell_type": "code",
      "source": [
        "x = 5.67\n",
        "y = 10\n",
        "\n",
        "print(int(x))    # Convert float to int\n",
        "print(float(y))  # Convert int to float"
      ],
      "metadata": {
        "id": "UOXiI5KCmG5x"
      },
      "execution_count": null,
      "outputs": []
    },
    {
      "cell_type": "markdown",
      "source": [
        "## 🧮 The `math` Module\n",
        "\n",
        "Python’s `math` module provides advanced mathematical functions like square root, power, pi, etc."
      ],
      "metadata": {
        "id": "z8WqX482mLwO"
      }
    },
    {
      "cell_type": "code",
      "source": [
        "import math\n",
        "\n",
        "print(\"Square root of 16:\", math.sqrt(16))\n",
        "print(\"Power (2^5):\", math.pow(2, 5))\n",
        "print(\"Pi value:\", math.pi)\n",
        "print(\"Sine of 90 degrees:\", math.sin(math.radians(90)))"
      ],
      "metadata": {
        "id": "VBnla1FJmMHN"
      },
      "execution_count": null,
      "outputs": []
    },
    {
      "cell_type": "markdown",
      "source": [
        "## 📝 Practice Exercise 1\n",
        "\n",
        "Write a program that takes 2 numbers and prints the result of:\n",
        "- Addition\n",
        "- Subtraction\n",
        "- Multiplication\n",
        "- Division"
      ],
      "metadata": {
        "id": "kY3zfrf7mPA6"
      }
    },
    {
      "cell_type": "code",
      "source": [
        "x = float(input(\"Enter first number: \"))\n",
        "y = float(input(\"Enter second number: \"))\n",
        "\n",
        "print(\"Addition:\", x + y)\n",
        "print(\"Subtraction:\", x - y)\n",
        "print(\"Multiplication:\", x * y)\n",
        "print(\"Division:\", x / y)"
      ],
      "metadata": {
        "id": "s6DvbmdJmPWL"
      },
      "execution_count": null,
      "outputs": []
    },
    {
      "cell_type": "markdown",
      "source": [
        "## 🧪 Practice Exercise 2\n",
        "\n",
        "Calculate the area of a circle given the radius by the user. Use the formula:\n",
        "\n",
        "$${Area} = \\pi \\times r^2$$"
      ],
      "metadata": {
        "id": "kBqf9dvYmSO9"
      }
    },
    {
      "cell_type": "code",
      "source": [
        "radius = float(input(\"Enter radius of the circle: \"))\n",
        "area = math.pi * radius ** 2\n",
        "print(\"Area of the circle:\", area)"
      ],
      "metadata": {
        "id": "o-D_X0QTmSjW"
      },
      "execution_count": null,
      "outputs": []
    },
    {
      "cell_type": "markdown",
      "source": [
        "✅ That’s it! You now understand numbers and math operations in Python.\n",
        "\n",
        "Keep practicing to build strong numerical thinking in Python!"
      ],
      "metadata": {
        "id": "9P7hVoINmZ5f"
      }
    },
    {
      "cell_type": "markdown",
      "source": [
        "# 🔁 For Loops\n",
        "\n",
        "In this notebook, you'll learn how to use `for` loops in Python to repeat actions, iterate over sequences, and write efficient code.\n",
        "\n",
        "📌 Topics:\n",
        "- Syntax of `for` loops\n",
        "- Using `range()`\n",
        "- Iterating over strings and lists\n",
        "- Nested loops\n",
        "- Practice exercises\n"
      ],
      "metadata": {
        "id": "zcxC7gKamk0c"
      }
    },
    {
      "cell_type": "code",
      "source": [
        "# Basic for loop using range\n",
        "for i in range(5):\n",
        "    print(\"Iteration:\", i)"
      ],
      "metadata": {
        "id": "D726K78ymaij"
      },
      "execution_count": null,
      "outputs": []
    },
    {
      "cell_type": "markdown",
      "source": [
        "## 🔢 `range()` Function\n",
        "\n",
        "The `range()` function is commonly used with `for` loops.\n",
        "\n",
        "- `range(n)` → 0 to n-1  \n",
        "- `range(start, stop)` → from start to stop-1  \n",
        "- `range(start, stop, step)` → with custom increment"
      ],
      "metadata": {
        "id": "a6c-VIY9mqId"
      }
    },
    {
      "cell_type": "code",
      "source": [
        "# Various usages of range\n",
        "print(\"range(5):\")\n",
        "for i in range(5):\n",
        "    print(i)\n",
        "\n",
        "print(\"\\nrange(2, 7):\")\n",
        "for i in range(2, 7):\n",
        "    print(i)\n",
        "\n",
        "print(\"\\nrange(10, 2, -2):\")\n",
        "for i in range(10, 2, -2):\n",
        "    print(i)"
      ],
      "metadata": {
        "id": "TtoRVogrmqe6"
      },
      "execution_count": null,
      "outputs": []
    },
    {
      "cell_type": "markdown",
      "source": [
        "## 📜 Iterating Over Strings and Lists"
      ],
      "metadata": {
        "id": "jOJr6DsZmttv"
      }
    },
    {
      "cell_type": "code",
      "source": [
        "# Looping through a string\n",
        "for letter in \"Hello\":\n",
        "    print(letter)\n",
        "\n",
        "# Looping through a list\n",
        "fruits = [\"apple\", \"banana\", \"mango\"]\n",
        "for fruit in fruits:\n",
        "    print(fruit)"
      ],
      "metadata": {
        "id": "KFVRGNB4muCi"
      },
      "execution_count": null,
      "outputs": []
    },
    {
      "cell_type": "markdown",
      "source": [
        "## 🔁 Nested Loops\n",
        "\n",
        "You can use loops inside loops."
      ],
      "metadata": {
        "id": "Tv0yKOJ4mxAe"
      }
    },
    {
      "cell_type": "code",
      "source": [
        "# Multiplication table\n",
        "for i in range(1, 4):\n",
        "    for j in range(1, 4):\n",
        "        print(f\"{i} x {j} = {i * j}\")\n",
        "    print(\"---\")\n"
      ],
      "metadata": {
        "id": "gRBpzJy9mxaW"
      },
      "execution_count": null,
      "outputs": []
    },
    {
      "cell_type": "markdown",
      "source": [
        "## 📝 Practice Exercise 1\n",
        "\n",
        "Print all even numbers from 1 to 20.\n"
      ],
      "metadata": {
        "id": "MOxYxWfAm8sj"
      }
    },
    {
      "cell_type": "code",
      "source": [
        "for i in range(1, 21):\n",
        "    if i % 2 == 0:\n",
        "        print(i)"
      ],
      "metadata": {
        "id": "svsuba_Km--r"
      },
      "execution_count": null,
      "outputs": []
    },
    {
      "cell_type": "markdown",
      "source": [
        "## 🧪 Practice Exercise 2\n",
        "\n",
        "Write a program that prints each item in a list of numbers and its square."
      ],
      "metadata": {
        "id": "i2j_UOvnnEP-"
      }
    },
    {
      "cell_type": "code",
      "source": [
        "numbers = [1, 2, 3, 4, 5]\n",
        "for num in numbers:\n",
        "    print(f\"{num} squared is {num ** 2}\")\n"
      ],
      "metadata": {
        "id": "2vR4s1ZKnCL9"
      },
      "execution_count": null,
      "outputs": []
    },
    {
      "cell_type": "markdown",
      "source": [
        "✅ Great! You've now learned how to use `for` loops effectively in Python.\n",
        "\n",
        "Keep practicing to build fluency with loops and iteration!"
      ],
      "metadata": {
        "id": "-C5BjEb5nHJt"
      }
    },
    {
      "cell_type": "markdown",
      "source": [
        "# 🧮 Functions\n",
        "\n",
        "In this notebook, you'll learn how to define and use **functions** in Python to write reusable, modular code.\n",
        "\n",
        "📌 Topics:\n",
        "- What is a function?\n",
        "- Defining a function using `def`\n",
        "- Parameters and arguments\n",
        "- Return values\n",
        "- Default arguments\n",
        "- Practice exercises"
      ],
      "metadata": {
        "id": "fBGiEt6CnX5N"
      }
    },
    {
      "cell_type": "markdown",
      "source": [
        "## 🧱 What is a Function?\n",
        "\n",
        "A **function** is a block of code that runs only when it is called.  \n",
        "Functions help organize code and avoid repetition."
      ],
      "metadata": {
        "id": "Zy27i4EXncEn"
      }
    },
    {
      "cell_type": "code",
      "source": [
        "# Basic function definition and call\n",
        "def greet():\n",
        "    print(\"Hello, welcome to Python 101!\")\n",
        "\n",
        "greet()"
      ],
      "metadata": {
        "id": "cYV_5QpunHi_"
      },
      "execution_count": null,
      "outputs": []
    },
    {
      "cell_type": "markdown",
      "source": [
        "## 🔢 Parameters and Arguments\n",
        "\n",
        "You can pass data into functions using **parameters**."
      ],
      "metadata": {
        "id": "COw1fUVrnfaz"
      }
    },
    {
      "cell_type": "code",
      "source": [
        "def greet(name):\n",
        "    print(\"Hello,\", name)\n",
        "\n",
        "greet(\"Alice\")\n",
        "greet(\"Bob\")"
      ],
      "metadata": {
        "id": "o1pq0E6_nf6v"
      },
      "execution_count": null,
      "outputs": []
    },
    {
      "cell_type": "markdown",
      "source": [
        "## 🔁 Return Values\n",
        "\n",
        "Use the `return` keyword to get a result from a function."
      ],
      "metadata": {
        "id": "1SeLI6yrni1w"
      }
    },
    {
      "cell_type": "code",
      "source": [
        "def add(a, b):\n",
        "    return a + b\n",
        "\n",
        "result = add(10, 20)\n",
        "print(\"Sum:\", result)"
      ],
      "metadata": {
        "id": "y5Egj8T0njN7"
      },
      "execution_count": null,
      "outputs": []
    },
    {
      "cell_type": "markdown",
      "source": [
        "## ⚙️ Default Arguments\n",
        "\n",
        "You can provide default values to parameters."
      ],
      "metadata": {
        "id": "GL31UBdHnlsG"
      }
    },
    {
      "cell_type": "code",
      "source": [
        "def greet(name=\"Guest\"):\n",
        "    print(\"Hello,\", name)\n",
        "\n",
        "greet(\"Charlie\")\n",
        "greet()"
      ],
      "metadata": {
        "id": "c8CQZVL7nmFv"
      },
      "execution_count": null,
      "outputs": []
    },
    {
      "cell_type": "markdown",
      "source": [
        "## 📦 Multiple Return Values\n",
        "\n",
        "Functions can return multiple values using tuples."
      ],
      "metadata": {
        "id": "VjrXsDsXnouR"
      }
    },
    {
      "cell_type": "code",
      "source": [
        "def stats(numbers):\n",
        "    total = sum(numbers)\n",
        "    count = len(numbers)\n",
        "    average = total / count\n",
        "    return total, average\n",
        "\n",
        "my_nums = [10, 20, 30]\n",
        "t, avg = stats(my_nums)\n",
        "print(\"Total:\", t)\n",
        "print(\"Average:\", avg)\n"
      ],
      "metadata": {
        "id": "FvCaVeYEnpM3"
      },
      "execution_count": null,
      "outputs": []
    },
    {
      "cell_type": "markdown",
      "source": [
        "## 📝 Practice Exercise 1\n",
        "\n",
        "Write a function `is_even(number)` that returns True if the number is even."
      ],
      "metadata": {
        "id": "HCkpdsS1nvC9"
      }
    },
    {
      "cell_type": "code",
      "source": [
        "def is_even(number):\n",
        "    return number % 2 == 0\n",
        "\n",
        "print(is_even(4))   # True\n",
        "print(is_even(7))   # False\n"
      ],
      "metadata": {
        "id": "pMimCSyInvgT"
      },
      "execution_count": null,
      "outputs": []
    },
    {
      "cell_type": "markdown",
      "source": [
        "## 🧪 Practice Exercise 2\n",
        "\n",
        "Write a function `circle_area(radius)` that returns the area of a circle using the formula:\n",
        "\n",
        "$${Area} = \\pi r^2$$"
      ],
      "metadata": {
        "id": "5QdSgyzEnyYl"
      }
    },
    {
      "cell_type": "code",
      "source": [
        "import math\n",
        "\n",
        "def circle_area(radius):\n",
        "    return math.pi * radius ** 2\n",
        "\n",
        "print(\"Area:\", circle_area(5))\n"
      ],
      "metadata": {
        "id": "gVXPhi_Sn0dv"
      },
      "execution_count": null,
      "outputs": []
    },
    {
      "cell_type": "markdown",
      "source": [
        "✅ Great work! You’ve learned how to define, call, and use functions in Python.\n",
        "\n",
        "Functions are essential for clean, reusable, and scalable code."
      ],
      "metadata": {
        "id": "gQ7pCtsnn4Xl"
      }
    },
    {
      "cell_type": "markdown",
      "source": [
        "# Introduction to Pandas\n",
        "In this notebook, we will learn how to use Pandas for data analysis.  \n",
        "We'll use the dataset `daily_fish_log_csv.csv` and explore common data analysis tasks.\n"
      ],
      "metadata": {
        "id": "AN_yT1JXIutd"
      }
    },
    {
      "cell_type": "code",
      "source": [
        "import pandas as pd\n",
        "import numpy as np"
      ],
      "metadata": {
        "id": "g_LjgOMNIv9_"
      },
      "execution_count": 2,
      "outputs": []
    },
    {
      "cell_type": "markdown",
      "source": [
        "## 1. Load Data\n",
        "We will load the fish log data from the CSV file using `pd.read_csv()`."
      ],
      "metadata": {
        "id": "rqozmznVIyjI"
      }
    },
    {
      "cell_type": "code",
      "source": [
        "df = pd.read_csv(\"daily_fish_log_csv.csv\")\n",
        "df.head()"
      ],
      "metadata": {
        "id": "q9s2DOScIy9c",
        "colab": {
          "base_uri": "https://localhost:8080/",
          "height": 206
        },
        "outputId": "11ccf1da-7cb1-400a-ac9b-0a41090b6347"
      },
      "execution_count": 9,
      "outputs": [
        {
          "output_type": "execute_result",
          "data": {
            "text/plain": [
              "   Fish_ID  Species  Weight_kg  Price_per_kg        Date\n",
              "0        1  Tilapia       1.62            80  2025-07-20\n",
              "1        2  Snapper       2.89           150  2025-07-21\n",
              "2        3  Catfish       2.41            95  2025-07-21\n",
              "3        4  Tilapia       2.12            80  2025-07-24\n",
              "4        5  Tilapia       1.14            80  2025-07-24"
            ],
            "text/html": [
              "\n",
              "  <div id=\"df-77c0d585-0924-403b-a21c-9d868305fe89\" class=\"colab-df-container\">\n",
              "    <div>\n",
              "<style scoped>\n",
              "    .dataframe tbody tr th:only-of-type {\n",
              "        vertical-align: middle;\n",
              "    }\n",
              "\n",
              "    .dataframe tbody tr th {\n",
              "        vertical-align: top;\n",
              "    }\n",
              "\n",
              "    .dataframe thead th {\n",
              "        text-align: right;\n",
              "    }\n",
              "</style>\n",
              "<table border=\"1\" class=\"dataframe\">\n",
              "  <thead>\n",
              "    <tr style=\"text-align: right;\">\n",
              "      <th></th>\n",
              "      <th>Fish_ID</th>\n",
              "      <th>Species</th>\n",
              "      <th>Weight_kg</th>\n",
              "      <th>Price_per_kg</th>\n",
              "      <th>Date</th>\n",
              "    </tr>\n",
              "  </thead>\n",
              "  <tbody>\n",
              "    <tr>\n",
              "      <th>0</th>\n",
              "      <td>1</td>\n",
              "      <td>Tilapia</td>\n",
              "      <td>1.62</td>\n",
              "      <td>80</td>\n",
              "      <td>2025-07-20</td>\n",
              "    </tr>\n",
              "    <tr>\n",
              "      <th>1</th>\n",
              "      <td>2</td>\n",
              "      <td>Snapper</td>\n",
              "      <td>2.89</td>\n",
              "      <td>150</td>\n",
              "      <td>2025-07-21</td>\n",
              "    </tr>\n",
              "    <tr>\n",
              "      <th>2</th>\n",
              "      <td>3</td>\n",
              "      <td>Catfish</td>\n",
              "      <td>2.41</td>\n",
              "      <td>95</td>\n",
              "      <td>2025-07-21</td>\n",
              "    </tr>\n",
              "    <tr>\n",
              "      <th>3</th>\n",
              "      <td>4</td>\n",
              "      <td>Tilapia</td>\n",
              "      <td>2.12</td>\n",
              "      <td>80</td>\n",
              "      <td>2025-07-24</td>\n",
              "    </tr>\n",
              "    <tr>\n",
              "      <th>4</th>\n",
              "      <td>5</td>\n",
              "      <td>Tilapia</td>\n",
              "      <td>1.14</td>\n",
              "      <td>80</td>\n",
              "      <td>2025-07-24</td>\n",
              "    </tr>\n",
              "  </tbody>\n",
              "</table>\n",
              "</div>\n",
              "    <div class=\"colab-df-buttons\">\n",
              "\n",
              "  <div class=\"colab-df-container\">\n",
              "    <button class=\"colab-df-convert\" onclick=\"convertToInteractive('df-77c0d585-0924-403b-a21c-9d868305fe89')\"\n",
              "            title=\"Convert this dataframe to an interactive table.\"\n",
              "            style=\"display:none;\">\n",
              "\n",
              "  <svg xmlns=\"http://www.w3.org/2000/svg\" height=\"24px\" viewBox=\"0 -960 960 960\">\n",
              "    <path d=\"M120-120v-720h720v720H120Zm60-500h600v-160H180v160Zm220 220h160v-160H400v160Zm0 220h160v-160H400v160ZM180-400h160v-160H180v160Zm440 0h160v-160H620v160ZM180-180h160v-160H180v160Zm440 0h160v-160H620v160Z\"/>\n",
              "  </svg>\n",
              "    </button>\n",
              "\n",
              "  <style>\n",
              "    .colab-df-container {\n",
              "      display:flex;\n",
              "      gap: 12px;\n",
              "    }\n",
              "\n",
              "    .colab-df-convert {\n",
              "      background-color: #E8F0FE;\n",
              "      border: none;\n",
              "      border-radius: 50%;\n",
              "      cursor: pointer;\n",
              "      display: none;\n",
              "      fill: #1967D2;\n",
              "      height: 32px;\n",
              "      padding: 0 0 0 0;\n",
              "      width: 32px;\n",
              "    }\n",
              "\n",
              "    .colab-df-convert:hover {\n",
              "      background-color: #E2EBFA;\n",
              "      box-shadow: 0px 1px 2px rgba(60, 64, 67, 0.3), 0px 1px 3px 1px rgba(60, 64, 67, 0.15);\n",
              "      fill: #174EA6;\n",
              "    }\n",
              "\n",
              "    .colab-df-buttons div {\n",
              "      margin-bottom: 4px;\n",
              "    }\n",
              "\n",
              "    [theme=dark] .colab-df-convert {\n",
              "      background-color: #3B4455;\n",
              "      fill: #D2E3FC;\n",
              "    }\n",
              "\n",
              "    [theme=dark] .colab-df-convert:hover {\n",
              "      background-color: #434B5C;\n",
              "      box-shadow: 0px 1px 3px 1px rgba(0, 0, 0, 0.15);\n",
              "      filter: drop-shadow(0px 1px 2px rgba(0, 0, 0, 0.3));\n",
              "      fill: #FFFFFF;\n",
              "    }\n",
              "  </style>\n",
              "\n",
              "    <script>\n",
              "      const buttonEl =\n",
              "        document.querySelector('#df-77c0d585-0924-403b-a21c-9d868305fe89 button.colab-df-convert');\n",
              "      buttonEl.style.display =\n",
              "        google.colab.kernel.accessAllowed ? 'block' : 'none';\n",
              "\n",
              "      async function convertToInteractive(key) {\n",
              "        const element = document.querySelector('#df-77c0d585-0924-403b-a21c-9d868305fe89');\n",
              "        const dataTable =\n",
              "          await google.colab.kernel.invokeFunction('convertToInteractive',\n",
              "                                                    [key], {});\n",
              "        if (!dataTable) return;\n",
              "\n",
              "        const docLinkHtml = 'Like what you see? Visit the ' +\n",
              "          '<a target=\"_blank\" href=https://colab.research.google.com/notebooks/data_table.ipynb>data table notebook</a>'\n",
              "          + ' to learn more about interactive tables.';\n",
              "        element.innerHTML = '';\n",
              "        dataTable['output_type'] = 'display_data';\n",
              "        await google.colab.output.renderOutput(dataTable, element);\n",
              "        const docLink = document.createElement('div');\n",
              "        docLink.innerHTML = docLinkHtml;\n",
              "        element.appendChild(docLink);\n",
              "      }\n",
              "    </script>\n",
              "  </div>\n",
              "\n",
              "\n",
              "    <div id=\"df-4601ccbb-b05a-41f6-8de8-390f059d7246\">\n",
              "      <button class=\"colab-df-quickchart\" onclick=\"quickchart('df-4601ccbb-b05a-41f6-8de8-390f059d7246')\"\n",
              "                title=\"Suggest charts\"\n",
              "                style=\"display:none;\">\n",
              "\n",
              "<svg xmlns=\"http://www.w3.org/2000/svg\" height=\"24px\"viewBox=\"0 0 24 24\"\n",
              "     width=\"24px\">\n",
              "    <g>\n",
              "        <path d=\"M19 3H5c-1.1 0-2 .9-2 2v14c0 1.1.9 2 2 2h14c1.1 0 2-.9 2-2V5c0-1.1-.9-2-2-2zM9 17H7v-7h2v7zm4 0h-2V7h2v10zm4 0h-2v-4h2v4z\"/>\n",
              "    </g>\n",
              "</svg>\n",
              "      </button>\n",
              "\n",
              "<style>\n",
              "  .colab-df-quickchart {\n",
              "      --bg-color: #E8F0FE;\n",
              "      --fill-color: #1967D2;\n",
              "      --hover-bg-color: #E2EBFA;\n",
              "      --hover-fill-color: #174EA6;\n",
              "      --disabled-fill-color: #AAA;\n",
              "      --disabled-bg-color: #DDD;\n",
              "  }\n",
              "\n",
              "  [theme=dark] .colab-df-quickchart {\n",
              "      --bg-color: #3B4455;\n",
              "      --fill-color: #D2E3FC;\n",
              "      --hover-bg-color: #434B5C;\n",
              "      --hover-fill-color: #FFFFFF;\n",
              "      --disabled-bg-color: #3B4455;\n",
              "      --disabled-fill-color: #666;\n",
              "  }\n",
              "\n",
              "  .colab-df-quickchart {\n",
              "    background-color: var(--bg-color);\n",
              "    border: none;\n",
              "    border-radius: 50%;\n",
              "    cursor: pointer;\n",
              "    display: none;\n",
              "    fill: var(--fill-color);\n",
              "    height: 32px;\n",
              "    padding: 0;\n",
              "    width: 32px;\n",
              "  }\n",
              "\n",
              "  .colab-df-quickchart:hover {\n",
              "    background-color: var(--hover-bg-color);\n",
              "    box-shadow: 0 1px 2px rgba(60, 64, 67, 0.3), 0 1px 3px 1px rgba(60, 64, 67, 0.15);\n",
              "    fill: var(--button-hover-fill-color);\n",
              "  }\n",
              "\n",
              "  .colab-df-quickchart-complete:disabled,\n",
              "  .colab-df-quickchart-complete:disabled:hover {\n",
              "    background-color: var(--disabled-bg-color);\n",
              "    fill: var(--disabled-fill-color);\n",
              "    box-shadow: none;\n",
              "  }\n",
              "\n",
              "  .colab-df-spinner {\n",
              "    border: 2px solid var(--fill-color);\n",
              "    border-color: transparent;\n",
              "    border-bottom-color: var(--fill-color);\n",
              "    animation:\n",
              "      spin 1s steps(1) infinite;\n",
              "  }\n",
              "\n",
              "  @keyframes spin {\n",
              "    0% {\n",
              "      border-color: transparent;\n",
              "      border-bottom-color: var(--fill-color);\n",
              "      border-left-color: var(--fill-color);\n",
              "    }\n",
              "    20% {\n",
              "      border-color: transparent;\n",
              "      border-left-color: var(--fill-color);\n",
              "      border-top-color: var(--fill-color);\n",
              "    }\n",
              "    30% {\n",
              "      border-color: transparent;\n",
              "      border-left-color: var(--fill-color);\n",
              "      border-top-color: var(--fill-color);\n",
              "      border-right-color: var(--fill-color);\n",
              "    }\n",
              "    40% {\n",
              "      border-color: transparent;\n",
              "      border-right-color: var(--fill-color);\n",
              "      border-top-color: var(--fill-color);\n",
              "    }\n",
              "    60% {\n",
              "      border-color: transparent;\n",
              "      border-right-color: var(--fill-color);\n",
              "    }\n",
              "    80% {\n",
              "      border-color: transparent;\n",
              "      border-right-color: var(--fill-color);\n",
              "      border-bottom-color: var(--fill-color);\n",
              "    }\n",
              "    90% {\n",
              "      border-color: transparent;\n",
              "      border-bottom-color: var(--fill-color);\n",
              "    }\n",
              "  }\n",
              "</style>\n",
              "\n",
              "      <script>\n",
              "        async function quickchart(key) {\n",
              "          const quickchartButtonEl =\n",
              "            document.querySelector('#' + key + ' button');\n",
              "          quickchartButtonEl.disabled = true;  // To prevent multiple clicks.\n",
              "          quickchartButtonEl.classList.add('colab-df-spinner');\n",
              "          try {\n",
              "            const charts = await google.colab.kernel.invokeFunction(\n",
              "                'suggestCharts', [key], {});\n",
              "          } catch (error) {\n",
              "            console.error('Error during call to suggestCharts:', error);\n",
              "          }\n",
              "          quickchartButtonEl.classList.remove('colab-df-spinner');\n",
              "          quickchartButtonEl.classList.add('colab-df-quickchart-complete');\n",
              "        }\n",
              "        (() => {\n",
              "          let quickchartButtonEl =\n",
              "            document.querySelector('#df-4601ccbb-b05a-41f6-8de8-390f059d7246 button');\n",
              "          quickchartButtonEl.style.display =\n",
              "            google.colab.kernel.accessAllowed ? 'block' : 'none';\n",
              "        })();\n",
              "      </script>\n",
              "    </div>\n",
              "\n",
              "    </div>\n",
              "  </div>\n"
            ],
            "application/vnd.google.colaboratory.intrinsic+json": {
              "type": "dataframe",
              "variable_name": "df",
              "summary": "{\n  \"name\": \"df\",\n  \"rows\": 120,\n  \"fields\": [\n    {\n      \"column\": \"Fish_ID\",\n      \"properties\": {\n        \"dtype\": \"number\",\n        \"std\": 34,\n        \"min\": 1,\n        \"max\": 120,\n        \"num_unique_values\": 120,\n        \"samples\": [\n          45,\n          48,\n          5\n        ],\n        \"semantic_type\": \"\",\n        \"description\": \"\"\n      }\n    },\n    {\n      \"column\": \"Species\",\n      \"properties\": {\n        \"dtype\": \"category\",\n        \"num_unique_values\": 4,\n        \"samples\": [\n          \"Snapper\",\n          \"Mackerel\",\n          \"Tilapia\"\n        ],\n        \"semantic_type\": \"\",\n        \"description\": \"\"\n      }\n    },\n    {\n      \"column\": \"Weight_kg\",\n      \"properties\": {\n        \"dtype\": \"number\",\n        \"std\": 0.6553829626493907,\n        \"min\": 0.81,\n        \"max\": 2.97,\n        \"num_unique_values\": 93,\n        \"samples\": [\n          1.49,\n          1.24,\n          1.42\n        ],\n        \"semantic_type\": \"\",\n        \"description\": \"\"\n      }\n    },\n    {\n      \"column\": \"Price_per_kg\",\n      \"properties\": {\n        \"dtype\": \"number\",\n        \"std\": 24,\n        \"min\": 80,\n        \"max\": 150,\n        \"num_unique_values\": 4,\n        \"samples\": [\n          150,\n          110,\n          80\n        ],\n        \"semantic_type\": \"\",\n        \"description\": \"\"\n      }\n    },\n    {\n      \"column\": \"Date\",\n      \"properties\": {\n        \"dtype\": \"object\",\n        \"num_unique_values\": 5,\n        \"samples\": [\n          \"2025-07-21\",\n          \"2025-07-22\",\n          \"2025-07-24\"\n        ],\n        \"semantic_type\": \"\",\n        \"description\": \"\"\n      }\n    }\n  ]\n}"
            }
          },
          "metadata": {},
          "execution_count": 9
        }
      ]
    },
    {
      "cell_type": "markdown",
      "source": [
        "## 📁 Optional: Access Data from Google Drive or Upload File\n",
        "\n",
        "You can either:\n",
        "- 🔓 Mount your Google Drive and access a file from a folder, or\n",
        "- 📤 Upload the dataset directly from your computer"
      ],
      "metadata": {
        "id": "SQf7AaRxTNch"
      }
    },
    {
      "cell_type": "markdown",
      "source": [
        "### 📌 Option 1: Mount Google Drive and Load from a Folder"
      ],
      "metadata": {
        "id": "wHjreG7BTTNr"
      }
    },
    {
      "cell_type": "code",
      "source": [
        "from google.colab import drive\n",
        "drive.mount('/content/drive')\n",
        "\n",
        "# Example path: adjust to match your folder\n",
        "file_path = '/content/drive/MyDrive/fish_data/daily_fish_log_csv.csv'\n",
        "\n",
        "import pandas as pd\n",
        "df = pd.read_csv(file_path)\n",
        "df.head()"
      ],
      "metadata": {
        "id": "mp74B_2KTUFJ"
      },
      "execution_count": null,
      "outputs": []
    },
    {
      "cell_type": "markdown",
      "source": [
        "### 📌 Option 2: Upload CSV File Manually"
      ],
      "metadata": {
        "id": "RdcYG1JBTaKz"
      }
    },
    {
      "cell_type": "code",
      "source": [
        "from google.colab import files\n",
        "uploaded = files.upload()\n",
        "\n",
        "# Automatically loads the first uploaded file\n",
        "import io\n",
        "df = pd.read_csv(io.BytesIO(next(iter(uploaded.values()))))\n",
        "df.head()"
      ],
      "metadata": {
        "id": "4qGQ-5g4Tdgq"
      },
      "execution_count": null,
      "outputs": []
    },
    {
      "cell_type": "markdown",
      "source": [
        "## 2. Explore Dataset\n",
        "Let's check the basic information and summary statistics of our dataset."
      ],
      "metadata": {
        "id": "lBlePEsjI1y1"
      }
    },
    {
      "cell_type": "code",
      "source": [
        "# Check the structure of the data\n",
        "df.info()"
      ],
      "metadata": {
        "id": "YlIbRN8WI9pH",
        "colab": {
          "base_uri": "https://localhost:8080/"
        },
        "outputId": "6343c1e7-c9d5-42b3-bcc6-4cc7ed54575a"
      },
      "execution_count": 10,
      "outputs": [
        {
          "output_type": "stream",
          "name": "stdout",
          "text": [
            "<class 'pandas.core.frame.DataFrame'>\n",
            "RangeIndex: 120 entries, 0 to 119\n",
            "Data columns (total 5 columns):\n",
            " #   Column        Non-Null Count  Dtype  \n",
            "---  ------        --------------  -----  \n",
            " 0   Fish_ID       120 non-null    int64  \n",
            " 1   Species       120 non-null    object \n",
            " 2   Weight_kg     120 non-null    float64\n",
            " 3   Price_per_kg  120 non-null    int64  \n",
            " 4   Date          120 non-null    object \n",
            "dtypes: float64(1), int64(2), object(2)\n",
            "memory usage: 4.8+ KB\n"
          ]
        }
      ]
    },
    {
      "cell_type": "code",
      "source": [
        "# Summary statistics\n",
        "df.describe()"
      ],
      "metadata": {
        "id": "noLO0Vz9jtdK",
        "outputId": "8934e15b-4eda-4d52-caf6-c07f0ef9a8f8",
        "colab": {
          "base_uri": "https://localhost:8080/",
          "height": 300
        }
      },
      "execution_count": 11,
      "outputs": [
        {
          "output_type": "execute_result",
          "data": {
            "text/plain": [
              "          Fish_ID   Weight_kg  Price_per_kg\n",
              "count  120.000000  120.000000    120.000000\n",
              "mean    60.500000    1.849750    106.250000\n",
              "std     34.785054    0.655383     24.565553\n",
              "min      1.000000    0.810000     80.000000\n",
              "25%     30.750000    1.237500     80.000000\n",
              "50%     60.500000    1.865000     95.000000\n",
              "75%     90.250000    2.462500    110.000000\n",
              "max    120.000000    2.970000    150.000000"
            ],
            "text/html": [
              "\n",
              "  <div id=\"df-420f0fa8-4deb-47b6-8628-b550f38c8a88\" class=\"colab-df-container\">\n",
              "    <div>\n",
              "<style scoped>\n",
              "    .dataframe tbody tr th:only-of-type {\n",
              "        vertical-align: middle;\n",
              "    }\n",
              "\n",
              "    .dataframe tbody tr th {\n",
              "        vertical-align: top;\n",
              "    }\n",
              "\n",
              "    .dataframe thead th {\n",
              "        text-align: right;\n",
              "    }\n",
              "</style>\n",
              "<table border=\"1\" class=\"dataframe\">\n",
              "  <thead>\n",
              "    <tr style=\"text-align: right;\">\n",
              "      <th></th>\n",
              "      <th>Fish_ID</th>\n",
              "      <th>Weight_kg</th>\n",
              "      <th>Price_per_kg</th>\n",
              "    </tr>\n",
              "  </thead>\n",
              "  <tbody>\n",
              "    <tr>\n",
              "      <th>count</th>\n",
              "      <td>120.000000</td>\n",
              "      <td>120.000000</td>\n",
              "      <td>120.000000</td>\n",
              "    </tr>\n",
              "    <tr>\n",
              "      <th>mean</th>\n",
              "      <td>60.500000</td>\n",
              "      <td>1.849750</td>\n",
              "      <td>106.250000</td>\n",
              "    </tr>\n",
              "    <tr>\n",
              "      <th>std</th>\n",
              "      <td>34.785054</td>\n",
              "      <td>0.655383</td>\n",
              "      <td>24.565553</td>\n",
              "    </tr>\n",
              "    <tr>\n",
              "      <th>min</th>\n",
              "      <td>1.000000</td>\n",
              "      <td>0.810000</td>\n",
              "      <td>80.000000</td>\n",
              "    </tr>\n",
              "    <tr>\n",
              "      <th>25%</th>\n",
              "      <td>30.750000</td>\n",
              "      <td>1.237500</td>\n",
              "      <td>80.000000</td>\n",
              "    </tr>\n",
              "    <tr>\n",
              "      <th>50%</th>\n",
              "      <td>60.500000</td>\n",
              "      <td>1.865000</td>\n",
              "      <td>95.000000</td>\n",
              "    </tr>\n",
              "    <tr>\n",
              "      <th>75%</th>\n",
              "      <td>90.250000</td>\n",
              "      <td>2.462500</td>\n",
              "      <td>110.000000</td>\n",
              "    </tr>\n",
              "    <tr>\n",
              "      <th>max</th>\n",
              "      <td>120.000000</td>\n",
              "      <td>2.970000</td>\n",
              "      <td>150.000000</td>\n",
              "    </tr>\n",
              "  </tbody>\n",
              "</table>\n",
              "</div>\n",
              "    <div class=\"colab-df-buttons\">\n",
              "\n",
              "  <div class=\"colab-df-container\">\n",
              "    <button class=\"colab-df-convert\" onclick=\"convertToInteractive('df-420f0fa8-4deb-47b6-8628-b550f38c8a88')\"\n",
              "            title=\"Convert this dataframe to an interactive table.\"\n",
              "            style=\"display:none;\">\n",
              "\n",
              "  <svg xmlns=\"http://www.w3.org/2000/svg\" height=\"24px\" viewBox=\"0 -960 960 960\">\n",
              "    <path d=\"M120-120v-720h720v720H120Zm60-500h600v-160H180v160Zm220 220h160v-160H400v160Zm0 220h160v-160H400v160ZM180-400h160v-160H180v160Zm440 0h160v-160H620v160ZM180-180h160v-160H180v160Zm440 0h160v-160H620v160Z\"/>\n",
              "  </svg>\n",
              "    </button>\n",
              "\n",
              "  <style>\n",
              "    .colab-df-container {\n",
              "      display:flex;\n",
              "      gap: 12px;\n",
              "    }\n",
              "\n",
              "    .colab-df-convert {\n",
              "      background-color: #E8F0FE;\n",
              "      border: none;\n",
              "      border-radius: 50%;\n",
              "      cursor: pointer;\n",
              "      display: none;\n",
              "      fill: #1967D2;\n",
              "      height: 32px;\n",
              "      padding: 0 0 0 0;\n",
              "      width: 32px;\n",
              "    }\n",
              "\n",
              "    .colab-df-convert:hover {\n",
              "      background-color: #E2EBFA;\n",
              "      box-shadow: 0px 1px 2px rgba(60, 64, 67, 0.3), 0px 1px 3px 1px rgba(60, 64, 67, 0.15);\n",
              "      fill: #174EA6;\n",
              "    }\n",
              "\n",
              "    .colab-df-buttons div {\n",
              "      margin-bottom: 4px;\n",
              "    }\n",
              "\n",
              "    [theme=dark] .colab-df-convert {\n",
              "      background-color: #3B4455;\n",
              "      fill: #D2E3FC;\n",
              "    }\n",
              "\n",
              "    [theme=dark] .colab-df-convert:hover {\n",
              "      background-color: #434B5C;\n",
              "      box-shadow: 0px 1px 3px 1px rgba(0, 0, 0, 0.15);\n",
              "      filter: drop-shadow(0px 1px 2px rgba(0, 0, 0, 0.3));\n",
              "      fill: #FFFFFF;\n",
              "    }\n",
              "  </style>\n",
              "\n",
              "    <script>\n",
              "      const buttonEl =\n",
              "        document.querySelector('#df-420f0fa8-4deb-47b6-8628-b550f38c8a88 button.colab-df-convert');\n",
              "      buttonEl.style.display =\n",
              "        google.colab.kernel.accessAllowed ? 'block' : 'none';\n",
              "\n",
              "      async function convertToInteractive(key) {\n",
              "        const element = document.querySelector('#df-420f0fa8-4deb-47b6-8628-b550f38c8a88');\n",
              "        const dataTable =\n",
              "          await google.colab.kernel.invokeFunction('convertToInteractive',\n",
              "                                                    [key], {});\n",
              "        if (!dataTable) return;\n",
              "\n",
              "        const docLinkHtml = 'Like what you see? Visit the ' +\n",
              "          '<a target=\"_blank\" href=https://colab.research.google.com/notebooks/data_table.ipynb>data table notebook</a>'\n",
              "          + ' to learn more about interactive tables.';\n",
              "        element.innerHTML = '';\n",
              "        dataTable['output_type'] = 'display_data';\n",
              "        await google.colab.output.renderOutput(dataTable, element);\n",
              "        const docLink = document.createElement('div');\n",
              "        docLink.innerHTML = docLinkHtml;\n",
              "        element.appendChild(docLink);\n",
              "      }\n",
              "    </script>\n",
              "  </div>\n",
              "\n",
              "\n",
              "    <div id=\"df-602cba6a-35b4-48d6-919c-021362c6551c\">\n",
              "      <button class=\"colab-df-quickchart\" onclick=\"quickchart('df-602cba6a-35b4-48d6-919c-021362c6551c')\"\n",
              "                title=\"Suggest charts\"\n",
              "                style=\"display:none;\">\n",
              "\n",
              "<svg xmlns=\"http://www.w3.org/2000/svg\" height=\"24px\"viewBox=\"0 0 24 24\"\n",
              "     width=\"24px\">\n",
              "    <g>\n",
              "        <path d=\"M19 3H5c-1.1 0-2 .9-2 2v14c0 1.1.9 2 2 2h14c1.1 0 2-.9 2-2V5c0-1.1-.9-2-2-2zM9 17H7v-7h2v7zm4 0h-2V7h2v10zm4 0h-2v-4h2v4z\"/>\n",
              "    </g>\n",
              "</svg>\n",
              "      </button>\n",
              "\n",
              "<style>\n",
              "  .colab-df-quickchart {\n",
              "      --bg-color: #E8F0FE;\n",
              "      --fill-color: #1967D2;\n",
              "      --hover-bg-color: #E2EBFA;\n",
              "      --hover-fill-color: #174EA6;\n",
              "      --disabled-fill-color: #AAA;\n",
              "      --disabled-bg-color: #DDD;\n",
              "  }\n",
              "\n",
              "  [theme=dark] .colab-df-quickchart {\n",
              "      --bg-color: #3B4455;\n",
              "      --fill-color: #D2E3FC;\n",
              "      --hover-bg-color: #434B5C;\n",
              "      --hover-fill-color: #FFFFFF;\n",
              "      --disabled-bg-color: #3B4455;\n",
              "      --disabled-fill-color: #666;\n",
              "  }\n",
              "\n",
              "  .colab-df-quickchart {\n",
              "    background-color: var(--bg-color);\n",
              "    border: none;\n",
              "    border-radius: 50%;\n",
              "    cursor: pointer;\n",
              "    display: none;\n",
              "    fill: var(--fill-color);\n",
              "    height: 32px;\n",
              "    padding: 0;\n",
              "    width: 32px;\n",
              "  }\n",
              "\n",
              "  .colab-df-quickchart:hover {\n",
              "    background-color: var(--hover-bg-color);\n",
              "    box-shadow: 0 1px 2px rgba(60, 64, 67, 0.3), 0 1px 3px 1px rgba(60, 64, 67, 0.15);\n",
              "    fill: var(--button-hover-fill-color);\n",
              "  }\n",
              "\n",
              "  .colab-df-quickchart-complete:disabled,\n",
              "  .colab-df-quickchart-complete:disabled:hover {\n",
              "    background-color: var(--disabled-bg-color);\n",
              "    fill: var(--disabled-fill-color);\n",
              "    box-shadow: none;\n",
              "  }\n",
              "\n",
              "  .colab-df-spinner {\n",
              "    border: 2px solid var(--fill-color);\n",
              "    border-color: transparent;\n",
              "    border-bottom-color: var(--fill-color);\n",
              "    animation:\n",
              "      spin 1s steps(1) infinite;\n",
              "  }\n",
              "\n",
              "  @keyframes spin {\n",
              "    0% {\n",
              "      border-color: transparent;\n",
              "      border-bottom-color: var(--fill-color);\n",
              "      border-left-color: var(--fill-color);\n",
              "    }\n",
              "    20% {\n",
              "      border-color: transparent;\n",
              "      border-left-color: var(--fill-color);\n",
              "      border-top-color: var(--fill-color);\n",
              "    }\n",
              "    30% {\n",
              "      border-color: transparent;\n",
              "      border-left-color: var(--fill-color);\n",
              "      border-top-color: var(--fill-color);\n",
              "      border-right-color: var(--fill-color);\n",
              "    }\n",
              "    40% {\n",
              "      border-color: transparent;\n",
              "      border-right-color: var(--fill-color);\n",
              "      border-top-color: var(--fill-color);\n",
              "    }\n",
              "    60% {\n",
              "      border-color: transparent;\n",
              "      border-right-color: var(--fill-color);\n",
              "    }\n",
              "    80% {\n",
              "      border-color: transparent;\n",
              "      border-right-color: var(--fill-color);\n",
              "      border-bottom-color: var(--fill-color);\n",
              "    }\n",
              "    90% {\n",
              "      border-color: transparent;\n",
              "      border-bottom-color: var(--fill-color);\n",
              "    }\n",
              "  }\n",
              "</style>\n",
              "\n",
              "      <script>\n",
              "        async function quickchart(key) {\n",
              "          const quickchartButtonEl =\n",
              "            document.querySelector('#' + key + ' button');\n",
              "          quickchartButtonEl.disabled = true;  // To prevent multiple clicks.\n",
              "          quickchartButtonEl.classList.add('colab-df-spinner');\n",
              "          try {\n",
              "            const charts = await google.colab.kernel.invokeFunction(\n",
              "                'suggestCharts', [key], {});\n",
              "          } catch (error) {\n",
              "            console.error('Error during call to suggestCharts:', error);\n",
              "          }\n",
              "          quickchartButtonEl.classList.remove('colab-df-spinner');\n",
              "          quickchartButtonEl.classList.add('colab-df-quickchart-complete');\n",
              "        }\n",
              "        (() => {\n",
              "          let quickchartButtonEl =\n",
              "            document.querySelector('#df-602cba6a-35b4-48d6-919c-021362c6551c button');\n",
              "          quickchartButtonEl.style.display =\n",
              "            google.colab.kernel.accessAllowed ? 'block' : 'none';\n",
              "        })();\n",
              "      </script>\n",
              "    </div>\n",
              "\n",
              "    </div>\n",
              "  </div>\n"
            ],
            "application/vnd.google.colaboratory.intrinsic+json": {
              "type": "dataframe",
              "summary": "{\n  \"name\": \"df\",\n  \"rows\": 8,\n  \"fields\": [\n    {\n      \"column\": \"Fish_ID\",\n      \"properties\": {\n        \"dtype\": \"number\",\n        \"std\": 42.94424075453017,\n        \"min\": 1.0,\n        \"max\": 120.0,\n        \"num_unique_values\": 6,\n        \"samples\": [\n          120.0,\n          60.5,\n          90.25\n        ],\n        \"semantic_type\": \"\",\n        \"description\": \"\"\n      }\n    },\n    {\n      \"column\": \"Weight_kg\",\n      \"properties\": {\n        \"dtype\": \"number\",\n        \"std\": 41.83529686095,\n        \"min\": 0.6553829626493907,\n        \"max\": 120.0,\n        \"num_unique_values\": 8,\n        \"samples\": [\n          1.84975,\n          1.865,\n          120.0\n        ],\n        \"semantic_type\": \"\",\n        \"description\": \"\"\n      }\n    },\n    {\n      \"column\": \"Price_per_kg\",\n      \"properties\": {\n        \"dtype\": \"number\",\n        \"std\": 36.66128020569579,\n        \"min\": 24.565552844473537,\n        \"max\": 150.0,\n        \"num_unique_values\": 7,\n        \"samples\": [\n          120.0,\n          106.25,\n          110.0\n        ],\n        \"semantic_type\": \"\",\n        \"description\": \"\"\n      }\n    }\n  ]\n}"
            }
          },
          "metadata": {},
          "execution_count": 11
        }
      ]
    },
    {
      "cell_type": "code",
      "source": [
        "# Unique species\n",
        "df['Species'].unique()"
      ],
      "metadata": {
        "id": "aqr8D-VEjuQQ",
        "outputId": "61991950-5604-45a6-b9d8-d4365832c7ec",
        "colab": {
          "base_uri": "https://localhost:8080/"
        }
      },
      "execution_count": 12,
      "outputs": [
        {
          "output_type": "execute_result",
          "data": {
            "text/plain": [
              "array(['Tilapia', 'Snapper', 'Catfish', 'Mackerel'], dtype=object)"
            ]
          },
          "metadata": {},
          "execution_count": 12
        }
      ]
    },
    {
      "cell_type": "code",
      "source": [
        "df = df.rename(columns={\n",
        "    \"Fish_ID\": \"id\",\n",
        "    \"Species\": \"species\",\n",
        "    \"Weight_kg\": \"weight\",\n",
        "    \"Price_per_kg\": \"price\",\n",
        "    \"Date\": \"date\"})\n",
        "df.head()"
      ],
      "metadata": {
        "id": "IUq9x5wqi9SY",
        "outputId": "f39dffeb-ae7b-4a41-bd69-e45e2443948c",
        "colab": {
          "base_uri": "https://localhost:8080/",
          "height": 206
        }
      },
      "execution_count": 13,
      "outputs": [
        {
          "output_type": "execute_result",
          "data": {
            "text/plain": [
              "   id  species  weight  price        date\n",
              "0   1  Tilapia    1.62     80  2025-07-20\n",
              "1   2  Snapper    2.89    150  2025-07-21\n",
              "2   3  Catfish    2.41     95  2025-07-21\n",
              "3   4  Tilapia    2.12     80  2025-07-24\n",
              "4   5  Tilapia    1.14     80  2025-07-24"
            ],
            "text/html": [
              "\n",
              "  <div id=\"df-0306f3de-35bb-4870-82df-5000ce0ae136\" class=\"colab-df-container\">\n",
              "    <div>\n",
              "<style scoped>\n",
              "    .dataframe tbody tr th:only-of-type {\n",
              "        vertical-align: middle;\n",
              "    }\n",
              "\n",
              "    .dataframe tbody tr th {\n",
              "        vertical-align: top;\n",
              "    }\n",
              "\n",
              "    .dataframe thead th {\n",
              "        text-align: right;\n",
              "    }\n",
              "</style>\n",
              "<table border=\"1\" class=\"dataframe\">\n",
              "  <thead>\n",
              "    <tr style=\"text-align: right;\">\n",
              "      <th></th>\n",
              "      <th>id</th>\n",
              "      <th>species</th>\n",
              "      <th>weight</th>\n",
              "      <th>price</th>\n",
              "      <th>date</th>\n",
              "    </tr>\n",
              "  </thead>\n",
              "  <tbody>\n",
              "    <tr>\n",
              "      <th>0</th>\n",
              "      <td>1</td>\n",
              "      <td>Tilapia</td>\n",
              "      <td>1.62</td>\n",
              "      <td>80</td>\n",
              "      <td>2025-07-20</td>\n",
              "    </tr>\n",
              "    <tr>\n",
              "      <th>1</th>\n",
              "      <td>2</td>\n",
              "      <td>Snapper</td>\n",
              "      <td>2.89</td>\n",
              "      <td>150</td>\n",
              "      <td>2025-07-21</td>\n",
              "    </tr>\n",
              "    <tr>\n",
              "      <th>2</th>\n",
              "      <td>3</td>\n",
              "      <td>Catfish</td>\n",
              "      <td>2.41</td>\n",
              "      <td>95</td>\n",
              "      <td>2025-07-21</td>\n",
              "    </tr>\n",
              "    <tr>\n",
              "      <th>3</th>\n",
              "      <td>4</td>\n",
              "      <td>Tilapia</td>\n",
              "      <td>2.12</td>\n",
              "      <td>80</td>\n",
              "      <td>2025-07-24</td>\n",
              "    </tr>\n",
              "    <tr>\n",
              "      <th>4</th>\n",
              "      <td>5</td>\n",
              "      <td>Tilapia</td>\n",
              "      <td>1.14</td>\n",
              "      <td>80</td>\n",
              "      <td>2025-07-24</td>\n",
              "    </tr>\n",
              "  </tbody>\n",
              "</table>\n",
              "</div>\n",
              "    <div class=\"colab-df-buttons\">\n",
              "\n",
              "  <div class=\"colab-df-container\">\n",
              "    <button class=\"colab-df-convert\" onclick=\"convertToInteractive('df-0306f3de-35bb-4870-82df-5000ce0ae136')\"\n",
              "            title=\"Convert this dataframe to an interactive table.\"\n",
              "            style=\"display:none;\">\n",
              "\n",
              "  <svg xmlns=\"http://www.w3.org/2000/svg\" height=\"24px\" viewBox=\"0 -960 960 960\">\n",
              "    <path d=\"M120-120v-720h720v720H120Zm60-500h600v-160H180v160Zm220 220h160v-160H400v160Zm0 220h160v-160H400v160ZM180-400h160v-160H180v160Zm440 0h160v-160H620v160ZM180-180h160v-160H180v160Zm440 0h160v-160H620v160Z\"/>\n",
              "  </svg>\n",
              "    </button>\n",
              "\n",
              "  <style>\n",
              "    .colab-df-container {\n",
              "      display:flex;\n",
              "      gap: 12px;\n",
              "    }\n",
              "\n",
              "    .colab-df-convert {\n",
              "      background-color: #E8F0FE;\n",
              "      border: none;\n",
              "      border-radius: 50%;\n",
              "      cursor: pointer;\n",
              "      display: none;\n",
              "      fill: #1967D2;\n",
              "      height: 32px;\n",
              "      padding: 0 0 0 0;\n",
              "      width: 32px;\n",
              "    }\n",
              "\n",
              "    .colab-df-convert:hover {\n",
              "      background-color: #E2EBFA;\n",
              "      box-shadow: 0px 1px 2px rgba(60, 64, 67, 0.3), 0px 1px 3px 1px rgba(60, 64, 67, 0.15);\n",
              "      fill: #174EA6;\n",
              "    }\n",
              "\n",
              "    .colab-df-buttons div {\n",
              "      margin-bottom: 4px;\n",
              "    }\n",
              "\n",
              "    [theme=dark] .colab-df-convert {\n",
              "      background-color: #3B4455;\n",
              "      fill: #D2E3FC;\n",
              "    }\n",
              "\n",
              "    [theme=dark] .colab-df-convert:hover {\n",
              "      background-color: #434B5C;\n",
              "      box-shadow: 0px 1px 3px 1px rgba(0, 0, 0, 0.15);\n",
              "      filter: drop-shadow(0px 1px 2px rgba(0, 0, 0, 0.3));\n",
              "      fill: #FFFFFF;\n",
              "    }\n",
              "  </style>\n",
              "\n",
              "    <script>\n",
              "      const buttonEl =\n",
              "        document.querySelector('#df-0306f3de-35bb-4870-82df-5000ce0ae136 button.colab-df-convert');\n",
              "      buttonEl.style.display =\n",
              "        google.colab.kernel.accessAllowed ? 'block' : 'none';\n",
              "\n",
              "      async function convertToInteractive(key) {\n",
              "        const element = document.querySelector('#df-0306f3de-35bb-4870-82df-5000ce0ae136');\n",
              "        const dataTable =\n",
              "          await google.colab.kernel.invokeFunction('convertToInteractive',\n",
              "                                                    [key], {});\n",
              "        if (!dataTable) return;\n",
              "\n",
              "        const docLinkHtml = 'Like what you see? Visit the ' +\n",
              "          '<a target=\"_blank\" href=https://colab.research.google.com/notebooks/data_table.ipynb>data table notebook</a>'\n",
              "          + ' to learn more about interactive tables.';\n",
              "        element.innerHTML = '';\n",
              "        dataTable['output_type'] = 'display_data';\n",
              "        await google.colab.output.renderOutput(dataTable, element);\n",
              "        const docLink = document.createElement('div');\n",
              "        docLink.innerHTML = docLinkHtml;\n",
              "        element.appendChild(docLink);\n",
              "      }\n",
              "    </script>\n",
              "  </div>\n",
              "\n",
              "\n",
              "    <div id=\"df-9393bdcb-1671-48c0-b6c7-1fe6c37ef184\">\n",
              "      <button class=\"colab-df-quickchart\" onclick=\"quickchart('df-9393bdcb-1671-48c0-b6c7-1fe6c37ef184')\"\n",
              "                title=\"Suggest charts\"\n",
              "                style=\"display:none;\">\n",
              "\n",
              "<svg xmlns=\"http://www.w3.org/2000/svg\" height=\"24px\"viewBox=\"0 0 24 24\"\n",
              "     width=\"24px\">\n",
              "    <g>\n",
              "        <path d=\"M19 3H5c-1.1 0-2 .9-2 2v14c0 1.1.9 2 2 2h14c1.1 0 2-.9 2-2V5c0-1.1-.9-2-2-2zM9 17H7v-7h2v7zm4 0h-2V7h2v10zm4 0h-2v-4h2v4z\"/>\n",
              "    </g>\n",
              "</svg>\n",
              "      </button>\n",
              "\n",
              "<style>\n",
              "  .colab-df-quickchart {\n",
              "      --bg-color: #E8F0FE;\n",
              "      --fill-color: #1967D2;\n",
              "      --hover-bg-color: #E2EBFA;\n",
              "      --hover-fill-color: #174EA6;\n",
              "      --disabled-fill-color: #AAA;\n",
              "      --disabled-bg-color: #DDD;\n",
              "  }\n",
              "\n",
              "  [theme=dark] .colab-df-quickchart {\n",
              "      --bg-color: #3B4455;\n",
              "      --fill-color: #D2E3FC;\n",
              "      --hover-bg-color: #434B5C;\n",
              "      --hover-fill-color: #FFFFFF;\n",
              "      --disabled-bg-color: #3B4455;\n",
              "      --disabled-fill-color: #666;\n",
              "  }\n",
              "\n",
              "  .colab-df-quickchart {\n",
              "    background-color: var(--bg-color);\n",
              "    border: none;\n",
              "    border-radius: 50%;\n",
              "    cursor: pointer;\n",
              "    display: none;\n",
              "    fill: var(--fill-color);\n",
              "    height: 32px;\n",
              "    padding: 0;\n",
              "    width: 32px;\n",
              "  }\n",
              "\n",
              "  .colab-df-quickchart:hover {\n",
              "    background-color: var(--hover-bg-color);\n",
              "    box-shadow: 0 1px 2px rgba(60, 64, 67, 0.3), 0 1px 3px 1px rgba(60, 64, 67, 0.15);\n",
              "    fill: var(--button-hover-fill-color);\n",
              "  }\n",
              "\n",
              "  .colab-df-quickchart-complete:disabled,\n",
              "  .colab-df-quickchart-complete:disabled:hover {\n",
              "    background-color: var(--disabled-bg-color);\n",
              "    fill: var(--disabled-fill-color);\n",
              "    box-shadow: none;\n",
              "  }\n",
              "\n",
              "  .colab-df-spinner {\n",
              "    border: 2px solid var(--fill-color);\n",
              "    border-color: transparent;\n",
              "    border-bottom-color: var(--fill-color);\n",
              "    animation:\n",
              "      spin 1s steps(1) infinite;\n",
              "  }\n",
              "\n",
              "  @keyframes spin {\n",
              "    0% {\n",
              "      border-color: transparent;\n",
              "      border-bottom-color: var(--fill-color);\n",
              "      border-left-color: var(--fill-color);\n",
              "    }\n",
              "    20% {\n",
              "      border-color: transparent;\n",
              "      border-left-color: var(--fill-color);\n",
              "      border-top-color: var(--fill-color);\n",
              "    }\n",
              "    30% {\n",
              "      border-color: transparent;\n",
              "      border-left-color: var(--fill-color);\n",
              "      border-top-color: var(--fill-color);\n",
              "      border-right-color: var(--fill-color);\n",
              "    }\n",
              "    40% {\n",
              "      border-color: transparent;\n",
              "      border-right-color: var(--fill-color);\n",
              "      border-top-color: var(--fill-color);\n",
              "    }\n",
              "    60% {\n",
              "      border-color: transparent;\n",
              "      border-right-color: var(--fill-color);\n",
              "    }\n",
              "    80% {\n",
              "      border-color: transparent;\n",
              "      border-right-color: var(--fill-color);\n",
              "      border-bottom-color: var(--fill-color);\n",
              "    }\n",
              "    90% {\n",
              "      border-color: transparent;\n",
              "      border-bottom-color: var(--fill-color);\n",
              "    }\n",
              "  }\n",
              "</style>\n",
              "\n",
              "      <script>\n",
              "        async function quickchart(key) {\n",
              "          const quickchartButtonEl =\n",
              "            document.querySelector('#' + key + ' button');\n",
              "          quickchartButtonEl.disabled = true;  // To prevent multiple clicks.\n",
              "          quickchartButtonEl.classList.add('colab-df-spinner');\n",
              "          try {\n",
              "            const charts = await google.colab.kernel.invokeFunction(\n",
              "                'suggestCharts', [key], {});\n",
              "          } catch (error) {\n",
              "            console.error('Error during call to suggestCharts:', error);\n",
              "          }\n",
              "          quickchartButtonEl.classList.remove('colab-df-spinner');\n",
              "          quickchartButtonEl.classList.add('colab-df-quickchart-complete');\n",
              "        }\n",
              "        (() => {\n",
              "          let quickchartButtonEl =\n",
              "            document.querySelector('#df-9393bdcb-1671-48c0-b6c7-1fe6c37ef184 button');\n",
              "          quickchartButtonEl.style.display =\n",
              "            google.colab.kernel.accessAllowed ? 'block' : 'none';\n",
              "        })();\n",
              "      </script>\n",
              "    </div>\n",
              "\n",
              "    </div>\n",
              "  </div>\n"
            ],
            "application/vnd.google.colaboratory.intrinsic+json": {
              "type": "dataframe",
              "variable_name": "df",
              "summary": "{\n  \"name\": \"df\",\n  \"rows\": 120,\n  \"fields\": [\n    {\n      \"column\": \"id\",\n      \"properties\": {\n        \"dtype\": \"number\",\n        \"std\": 34,\n        \"min\": 1,\n        \"max\": 120,\n        \"num_unique_values\": 120,\n        \"samples\": [\n          45,\n          48,\n          5\n        ],\n        \"semantic_type\": \"\",\n        \"description\": \"\"\n      }\n    },\n    {\n      \"column\": \"species\",\n      \"properties\": {\n        \"dtype\": \"category\",\n        \"num_unique_values\": 4,\n        \"samples\": [\n          \"Snapper\",\n          \"Mackerel\",\n          \"Tilapia\"\n        ],\n        \"semantic_type\": \"\",\n        \"description\": \"\"\n      }\n    },\n    {\n      \"column\": \"weight\",\n      \"properties\": {\n        \"dtype\": \"number\",\n        \"std\": 0.6553829626493907,\n        \"min\": 0.81,\n        \"max\": 2.97,\n        \"num_unique_values\": 93,\n        \"samples\": [\n          1.49,\n          1.24,\n          1.42\n        ],\n        \"semantic_type\": \"\",\n        \"description\": \"\"\n      }\n    },\n    {\n      \"column\": \"price\",\n      \"properties\": {\n        \"dtype\": \"number\",\n        \"std\": 24,\n        \"min\": 80,\n        \"max\": 150,\n        \"num_unique_values\": 4,\n        \"samples\": [\n          150,\n          110,\n          80\n        ],\n        \"semantic_type\": \"\",\n        \"description\": \"\"\n      }\n    },\n    {\n      \"column\": \"date\",\n      \"properties\": {\n        \"dtype\": \"object\",\n        \"num_unique_values\": 5,\n        \"samples\": [\n          \"2025-07-21\",\n          \"2025-07-22\",\n          \"2025-07-24\"\n        ],\n        \"semantic_type\": \"\",\n        \"description\": \"\"\n      }\n    }\n  ]\n}"
            }
          },
          "metadata": {},
          "execution_count": 13
        }
      ]
    },
    {
      "cell_type": "markdown",
      "source": [
        "## 3. Data Cleaning\n",
        "We will check for missing values and duplicates."
      ],
      "metadata": {
        "id": "pOktBalBJHoa"
      }
    },
    {
      "cell_type": "code",
      "source": [
        "# Check for missing values\n",
        "df.isnull().sum()"
      ],
      "metadata": {
        "id": "RbJc6QQyJH-v",
        "colab": {
          "base_uri": "https://localhost:8080/",
          "height": 241
        },
        "outputId": "53996876-2b91-4cfe-dd08-07f604b575a6"
      },
      "execution_count": 14,
      "outputs": [
        {
          "output_type": "execute_result",
          "data": {
            "text/plain": [
              "id         0\n",
              "species    0\n",
              "weight     0\n",
              "price      0\n",
              "date       0\n",
              "dtype: int64"
            ],
            "text/html": [
              "<div>\n",
              "<style scoped>\n",
              "    .dataframe tbody tr th:only-of-type {\n",
              "        vertical-align: middle;\n",
              "    }\n",
              "\n",
              "    .dataframe tbody tr th {\n",
              "        vertical-align: top;\n",
              "    }\n",
              "\n",
              "    .dataframe thead th {\n",
              "        text-align: right;\n",
              "    }\n",
              "</style>\n",
              "<table border=\"1\" class=\"dataframe\">\n",
              "  <thead>\n",
              "    <tr style=\"text-align: right;\">\n",
              "      <th></th>\n",
              "      <th>0</th>\n",
              "    </tr>\n",
              "  </thead>\n",
              "  <tbody>\n",
              "    <tr>\n",
              "      <th>id</th>\n",
              "      <td>0</td>\n",
              "    </tr>\n",
              "    <tr>\n",
              "      <th>species</th>\n",
              "      <td>0</td>\n",
              "    </tr>\n",
              "    <tr>\n",
              "      <th>weight</th>\n",
              "      <td>0</td>\n",
              "    </tr>\n",
              "    <tr>\n",
              "      <th>price</th>\n",
              "      <td>0</td>\n",
              "    </tr>\n",
              "    <tr>\n",
              "      <th>date</th>\n",
              "      <td>0</td>\n",
              "    </tr>\n",
              "  </tbody>\n",
              "</table>\n",
              "</div><br><label><b>dtype:</b> int64</label>"
            ]
          },
          "metadata": {},
          "execution_count": 14
        }
      ]
    },
    {
      "cell_type": "code",
      "source": [
        "# Check for duplicates\n",
        "df.duplicated().sum()"
      ],
      "metadata": {
        "id": "SNhBJdf6j3t2",
        "outputId": "5fcbeeac-3c85-4c9d-eea0-a9b9c0428076",
        "colab": {
          "base_uri": "https://localhost:8080/"
        }
      },
      "execution_count": 15,
      "outputs": [
        {
          "output_type": "execute_result",
          "data": {
            "text/plain": [
              "np.int64(0)"
            ]
          },
          "metadata": {},
          "execution_count": 15
        }
      ]
    },
    {
      "cell_type": "markdown",
      "source": [
        "## 4. Data Analysis\n",
        "Let's analyze:\n",
        "- Total fish weight by species\n",
        "- Average price per species\n",
        "- Daily total revenue"
      ],
      "metadata": {
        "id": "INDVDUtDJLA0"
      }
    },
    {
      "cell_type": "code",
      "source": [
        "# Total weight per species\n",
        "total_weight = df.groupby('species')['weight'].sum()\n",
        "\n",
        "# Average price per species\n",
        "avg_price = df.groupby('species')['price'].mean()\n",
        "\n",
        "# Daily total revenue\n",
        "df['revenue'] = df['weight'] * df['price']\n",
        "daily_revenue = df.groupby('date')['revenue'].sum()\n",
        "\n",
        "total_weight, avg_price, daily_revenue"
      ],
      "metadata": {
        "id": "xelUnf98JLVg",
        "colab": {
          "base_uri": "https://localhost:8080/"
        },
        "outputId": "185bee3d-41d2-41b2-ed01-094e98d6e56a"
      },
      "execution_count": 17,
      "outputs": [
        {
          "output_type": "execute_result",
          "data": {
            "text/plain": [
              "(species\n",
              " Catfish     59.87\n",
              " Mackerel    57.23\n",
              " Snapper     49.14\n",
              " Tilapia     55.73\n",
              " Name: weight, dtype: float64,\n",
              " species\n",
              " Catfish      95.0\n",
              " Mackerel    110.0\n",
              " Snapper     150.0\n",
              " Tilapia      80.0\n",
              " Name: price, dtype: float64,\n",
              " date\n",
              " 2025-07-20    5950.30\n",
              " 2025-07-21    5704.90\n",
              " 2025-07-22    3480.45\n",
              " 2025-07-23    2649.45\n",
              " 2025-07-24    6027.25\n",
              " Name: revenue, dtype: float64)"
            ]
          },
          "metadata": {},
          "execution_count": 17
        }
      ]
    },
    {
      "cell_type": "markdown",
      "source": [
        "## 5. Data Visualization\n",
        "We will plot:\n",
        "- Total weight by species\n",
        "- Daily revenue trends"
      ],
      "metadata": {
        "id": "jjnV_FlMJPzN"
      }
    },
    {
      "cell_type": "code",
      "source": [
        "import matplotlib.pyplot as plt\n",
        "\n",
        "# Total weight per species\n",
        "total_weight.plot(kind='bar', title='Total Weight by Species', ylabel='Weight (kg)')\n",
        "plt.show()\n",
        "\n",
        "# Daily revenue trend\n",
        "daily_revenue.plot(kind='line', marker='o', title='Daily Revenue Trend', ylabel='Revenue')\n",
        "plt.show()"
      ],
      "metadata": {
        "id": "lhBDJDKDJRlc",
        "colab": {
          "base_uri": "https://localhost:8080/",
          "height": 975
        },
        "outputId": "5bec769e-181e-4a28-b341-d151eb4bb5eb"
      },
      "execution_count": 18,
      "outputs": [
        {
          "output_type": "display_data",
          "data": {
            "text/plain": [
              "<Figure size 640x480 with 1 Axes>"
            ],
            "image/png": "[encoded data removed]"
          },
          "metadata": {}
        },
        {
          "output_type": "display_data",
          "data": {
            "text/plain": [
              "<Figure size 640x480 with 1 Axes>"
            ],
            "image/png": "[encoded data removed]"
          },
          "metadata": {}
        }
      ]
    },
    {
      "cell_type": "markdown",
      "source": [
        "## ✅ Feature Engineering\n",
        "📅 Extracting Date Features\n",
        "Dates can hold rich temporal information for modeling. We’ll extract features such as:\n",
        "\n",
        "- Day of week (Monday–Sunday)\n",
        "\n",
        "- Month\n",
        "\n",
        "- Quarter\n",
        "\n",
        "- Season (manually mapped)\n",
        "\n",
        "- Year"
      ],
      "metadata": {
        "id": "8Fxm60S6JM8g"
      }
    },
    {
      "cell_type": "code",
      "source": [
        "df['date'] = pd.to_datetime(df['date'], errors='coerce')\n",
        "\n",
        "# Extract date-based features\n",
        "df['day_of_week'] = df['date'].dt.day_name()\n",
        "df['month'] = df['date'].dt.month\n",
        "df['year'] = df['date'].dt.year\n",
        "df['quarter'] = df['date'].dt.quarter\n",
        "\n",
        "# Map seasons (assuming northern hemisphere)\n",
        "def map_season(month):\n",
        "    if month in [12, 1, 2]:\n",
        "        return 'Winter'\n",
        "    elif month in [3, 4, 5]:\n",
        "        return 'Spring'\n",
        "    elif month in [6, 7, 8]:\n",
        "        return 'Summer'\n",
        "    else:\n",
        "        return 'Autumn'\n",
        "\n",
        "df['season'] = df['month'].apply(map_season)\n",
        "\n",
        "df[['date', 'day_of_week', 'month', 'quarter', 'season']].head()"
      ],
      "metadata": {
        "id": "K9nsjCx9NzZn",
        "colab": {
          "base_uri": "https://localhost:8080/",
          "height": 206
        },
        "outputId": "c553ce2c-373b-41f6-a559-b3d9c60f384d"
      },
      "execution_count": 19,
      "outputs": [
        {
          "output_type": "execute_result",
          "data": {
            "text/plain": [
              "        date day_of_week  month  quarter  season\n",
              "0 2025-07-20      Sunday      7        3  Summer\n",
              "1 2025-07-21      Monday      7        3  Summer\n",
              "2 2025-07-21      Monday      7        3  Summer\n",
              "3 2025-07-24    Thursday      7        3  Summer\n",
              "4 2025-07-24    Thursday      7        3  Summer"
            ],
            "text/html": [
              "\n",
              "  <div id=\"df-1273a021-6c78-4cd7-8fa6-77c1a77e6c8d\" class=\"colab-df-container\">\n",
              "    <div>\n",
              "<style scoped>\n",
              "    .dataframe tbody tr th:only-of-type {\n",
              "        vertical-align: middle;\n",
              "    }\n",
              "\n",
              "    .dataframe tbody tr th {\n",
              "        vertical-align: top;\n",
              "    }\n",
              "\n",
              "    .dataframe thead th {\n",
              "        text-align: right;\n",
              "    }\n",
              "</style>\n",
              "<table border=\"1\" class=\"dataframe\">\n",
              "  <thead>\n",
              "    <tr style=\"text-align: right;\">\n",
              "      <th></th>\n",
              "      <th>date</th>\n",
              "      <th>day_of_week</th>\n",
              "      <th>month</th>\n",
              "      <th>quarter</th>\n",
              "      <th>season</th>\n",
              "    </tr>\n",
              "  </thead>\n",
              "  <tbody>\n",
              "    <tr>\n",
              "      <th>0</th>\n",
              "      <td>2025-07-20</td>\n",
              "      <td>Sunday</td>\n",
              "      <td>7</td>\n",
              "      <td>3</td>\n",
              "      <td>Summer</td>\n",
              "    </tr>\n",
              "    <tr>\n",
              "      <th>1</th>\n",
              "      <td>2025-07-21</td>\n",
              "      <td>Monday</td>\n",
              "      <td>7</td>\n",
              "      <td>3</td>\n",
              "      <td>Summer</td>\n",
              "    </tr>\n",
              "    <tr>\n",
              "      <th>2</th>\n",
              "      <td>2025-07-21</td>\n",
              "      <td>Monday</td>\n",
              "      <td>7</td>\n",
              "      <td>3</td>\n",
              "      <td>Summer</td>\n",
              "    </tr>\n",
              "    <tr>\n",
              "      <th>3</th>\n",
              "      <td>2025-07-24</td>\n",
              "      <td>Thursday</td>\n",
              "      <td>7</td>\n",
              "      <td>3</td>\n",
              "      <td>Summer</td>\n",
              "    </tr>\n",
              "    <tr>\n",
              "      <th>4</th>\n",
              "      <td>2025-07-24</td>\n",
              "      <td>Thursday</td>\n",
              "      <td>7</td>\n",
              "      <td>3</td>\n",
              "      <td>Summer</td>\n",
              "    </tr>\n",
              "  </tbody>\n",
              "</table>\n",
              "</div>\n",
              "    <div class=\"colab-df-buttons\">\n",
              "\n",
              "  <div class=\"colab-df-container\">\n",
              "    <button class=\"colab-df-convert\" onclick=\"convertToInteractive('df-1273a021-6c78-4cd7-8fa6-77c1a77e6c8d')\"\n",
              "            title=\"Convert this dataframe to an interactive table.\"\n",
              "            style=\"display:none;\">\n",
              "\n",
              "  <svg xmlns=\"http://www.w3.org/2000/svg\" height=\"24px\" viewBox=\"0 -960 960 960\">\n",
              "    <path d=\"M120-120v-720h720v720H120Zm60-500h600v-160H180v160Zm220 220h160v-160H400v160Zm0 220h160v-160H400v160ZM180-400h160v-160H180v160Zm440 0h160v-160H620v160ZM180-180h160v-160H180v160Zm440 0h160v-160H620v160Z\"/>\n",
              "  </svg>\n",
              "    </button>\n",
              "\n",
              "  <style>\n",
              "    .colab-df-container {\n",
              "      display:flex;\n",
              "      gap: 12px;\n",
              "    }\n",
              "\n",
              "    .colab-df-convert {\n",
              "      background-color: #E8F0FE;\n",
              "      border: none;\n",
              "      border-radius: 50%;\n",
              "      cursor: pointer;\n",
              "      display: none;\n",
              "      fill: #1967D2;\n",
              "      height: 32px;\n",
              "      padding: 0 0 0 0;\n",
              "      width: 32px;\n",
              "    }\n",
              "\n",
              "    .colab-df-convert:hover {\n",
              "      background-color: #E2EBFA;\n",
              "      box-shadow: 0px 1px 2px rgba(60, 64, 67, 0.3), 0px 1px 3px 1px rgba(60, 64, 67, 0.15);\n",
              "      fill: #174EA6;\n",
              "    }\n",
              "\n",
              "    .colab-df-buttons div {\n",
              "      margin-bottom: 4px;\n",
              "    }\n",
              "\n",
              "    [theme=dark] .colab-df-convert {\n",
              "      background-color: #3B4455;\n",
              "      fill: #D2E3FC;\n",
              "    }\n",
              "\n",
              "    [theme=dark] .colab-df-convert:hover {\n",
              "      background-color: #434B5C;\n",
              "      box-shadow: 0px 1px 3px 1px rgba(0, 0, 0, 0.15);\n",
              "      filter: drop-shadow(0px 1px 2px rgba(0, 0, 0, 0.3));\n",
              "      fill: #FFFFFF;\n",
              "    }\n",
              "  </style>\n",
              "\n",
              "    <script>\n",
              "      const buttonEl =\n",
              "        document.querySelector('#df-1273a021-6c78-4cd7-8fa6-77c1a77e6c8d button.colab-df-convert');\n",
              "      buttonEl.style.display =\n",
              "        google.colab.kernel.accessAllowed ? 'block' : 'none';\n",
              "\n",
              "      async function convertToInteractive(key) {\n",
              "        const element = document.querySelector('#df-1273a021-6c78-4cd7-8fa6-77c1a77e6c8d');\n",
              "        const dataTable =\n",
              "          await google.colab.kernel.invokeFunction('convertToInteractive',\n",
              "                                                    [key], {});\n",
              "        if (!dataTable) return;\n",
              "\n",
              "        const docLinkHtml = 'Like what you see? Visit the ' +\n",
              "          '<a target=\"_blank\" href=https://colab.research.google.com/notebooks/data_table.ipynb>data table notebook</a>'\n",
              "          + ' to learn more about interactive tables.';\n",
              "        element.innerHTML = '';\n",
              "        dataTable['output_type'] = 'display_data';\n",
              "        await google.colab.output.renderOutput(dataTable, element);\n",
              "        const docLink = document.createElement('div');\n",
              "        docLink.innerHTML = docLinkHtml;\n",
              "        element.appendChild(docLink);\n",
              "      }\n",
              "    </script>\n",
              "  </div>\n",
              "\n",
              "\n",
              "    <div id=\"df-8dd2b4c3-967a-4427-bb92-0db2aa4f28c7\">\n",
              "      <button class=\"colab-df-quickchart\" onclick=\"quickchart('df-8dd2b4c3-967a-4427-bb92-0db2aa4f28c7')\"\n",
              "                title=\"Suggest charts\"\n",
              "                style=\"display:none;\">\n",
              "\n",
              "<svg xmlns=\"http://www.w3.org/2000/svg\" height=\"24px\"viewBox=\"0 0 24 24\"\n",
              "     width=\"24px\">\n",
              "    <g>\n",
              "        <path d=\"M19 3H5c-1.1 0-2 .9-2 2v14c0 1.1.9 2 2 2h14c1.1 0 2-.9 2-2V5c0-1.1-.9-2-2-2zM9 17H7v-7h2v7zm4 0h-2V7h2v10zm4 0h-2v-4h2v4z\"/>\n",
              "    </g>\n",
              "</svg>\n",
              "      </button>\n",
              "\n",
              "<style>\n",
              "  .colab-df-quickchart {\n",
              "      --bg-color: #E8F0FE;\n",
              "      --fill-color: #1967D2;\n",
              "      --hover-bg-color: #E2EBFA;\n",
              "      --hover-fill-color: #174EA6;\n",
              "      --disabled-fill-color: #AAA;\n",
              "      --disabled-bg-color: #DDD;\n",
              "  }\n",
              "\n",
              "  [theme=dark] .colab-df-quickchart {\n",
              "      --bg-color: #3B4455;\n",
              "      --fill-color: #D2E3FC;\n",
              "      --hover-bg-color: #434B5C;\n",
              "      --hover-fill-color: #FFFFFF;\n",
              "      --disabled-bg-color: #3B4455;\n",
              "      --disabled-fill-color: #666;\n",
              "  }\n",
              "\n",
              "  .colab-df-quickchart {\n",
              "    background-color: var(--bg-color);\n",
              "    border: none;\n",
              "    border-radius: 50%;\n",
              "    cursor: pointer;\n",
              "    display: none;\n",
              "    fill: var(--fill-color);\n",
              "    height: 32px;\n",
              "    padding: 0;\n",
              "    width: 32px;\n",
              "  }\n",
              "\n",
              "  .colab-df-quickchart:hover {\n",
              "    background-color: var(--hover-bg-color);\n",
              "    box-shadow: 0 1px 2px rgba(60, 64, 67, 0.3), 0 1px 3px 1px rgba(60, 64, 67, 0.15);\n",
              "    fill: var(--button-hover-fill-color);\n",
              "  }\n",
              "\n",
              "  .colab-df-quickchart-complete:disabled,\n",
              "  .colab-df-quickchart-complete:disabled:hover {\n",
              "    background-color: var(--disabled-bg-color);\n",
              "    fill: var(--disabled-fill-color);\n",
              "    box-shadow: none;\n",
              "  }\n",
              "\n",
              "  .colab-df-spinner {\n",
              "    border: 2px solid var(--fill-color);\n",
              "    border-color: transparent;\n",
              "    border-bottom-color: var(--fill-color);\n",
              "    animation:\n",
              "      spin 1s steps(1) infinite;\n",
              "  }\n",
              "\n",
              "  @keyframes spin {\n",
              "    0% {\n",
              "      border-color: transparent;\n",
              "      border-bottom-color: var(--fill-color);\n",
              "      border-left-color: var(--fill-color);\n",
              "    }\n",
              "    20% {\n",
              "      border-color: transparent;\n",
              "      border-left-color: var(--fill-color);\n",
              "      border-top-color: var(--fill-color);\n",
              "    }\n",
              "    30% {\n",
              "      border-color: transparent;\n",
              "      border-left-color: var(--fill-color);\n",
              "      border-top-color: var(--fill-color);\n",
              "      border-right-color: var(--fill-color);\n",
              "    }\n",
              "    40% {\n",
              "      border-color: transparent;\n",
              "      border-right-color: var(--fill-color);\n",
              "      border-top-color: var(--fill-color);\n",
              "    }\n",
              "    60% {\n",
              "      border-color: transparent;\n",
              "      border-right-color: var(--fill-color);\n",
              "    }\n",
              "    80% {\n",
              "      border-color: transparent;\n",
              "      border-right-color: var(--fill-color);\n",
              "      border-bottom-color: var(--fill-color);\n",
              "    }\n",
              "    90% {\n",
              "      border-color: transparent;\n",
              "      border-bottom-color: var(--fill-color);\n",
              "    }\n",
              "  }\n",
              "</style>\n",
              "\n",
              "      <script>\n",
              "        async function quickchart(key) {\n",
              "          const quickchartButtonEl =\n",
              "            document.querySelector('#' + key + ' button');\n",
              "          quickchartButtonEl.disabled = true;  // To prevent multiple clicks.\n",
              "          quickchartButtonEl.classList.add('colab-df-spinner');\n",
              "          try {\n",
              "            const charts = await google.colab.kernel.invokeFunction(\n",
              "                'suggestCharts', [key], {});\n",
              "          } catch (error) {\n",
              "            console.error('Error during call to suggestCharts:', error);\n",
              "          }\n",
              "          quickchartButtonEl.classList.remove('colab-df-spinner');\n",
              "          quickchartButtonEl.classList.add('colab-df-quickchart-complete');\n",
              "        }\n",
              "        (() => {\n",
              "          let quickchartButtonEl =\n",
              "            document.querySelector('#df-8dd2b4c3-967a-4427-bb92-0db2aa4f28c7 button');\n",
              "          quickchartButtonEl.style.display =\n",
              "            google.colab.kernel.accessAllowed ? 'block' : 'none';\n",
              "        })();\n",
              "      </script>\n",
              "    </div>\n",
              "\n",
              "    </div>\n",
              "  </div>\n"
            ],
            "application/vnd.google.colaboratory.intrinsic+json": {
              "type": "dataframe",
              "summary": "{\n  \"name\": \"df[['date', 'day_of_week', 'month', 'quarter', 'season']]\",\n  \"rows\": 5,\n  \"fields\": [\n    {\n      \"column\": \"date\",\n      \"properties\": {\n        \"dtype\": \"date\",\n        \"min\": \"2025-07-20 00:00:00\",\n        \"max\": \"2025-07-24 00:00:00\",\n        \"num_unique_values\": 3,\n        \"samples\": [\n          \"2025-07-20 00:00:00\",\n          \"2025-07-21 00:00:00\",\n          \"2025-07-24 00:00:00\"\n        ],\n        \"semantic_type\": \"\",\n        \"description\": \"\"\n      }\n    },\n    {\n      \"column\": \"day_of_week\",\n      \"properties\": {\n        \"dtype\": \"string\",\n        \"num_unique_values\": 3,\n        \"samples\": [\n          \"Sunday\",\n          \"Monday\",\n          \"Thursday\"\n        ],\n        \"semantic_type\": \"\",\n        \"description\": \"\"\n      }\n    },\n    {\n      \"column\": \"month\",\n      \"properties\": {\n        \"dtype\": \"int32\",\n        \"num_unique_values\": 1,\n        \"samples\": [\n          7\n        ],\n        \"semantic_type\": \"\",\n        \"description\": \"\"\n      }\n    },\n    {\n      \"column\": \"quarter\",\n      \"properties\": {\n        \"dtype\": \"int32\",\n        \"num_unique_values\": 1,\n        \"samples\": [\n          3\n        ],\n        \"semantic_type\": \"\",\n        \"description\": \"\"\n      }\n    },\n    {\n      \"column\": \"season\",\n      \"properties\": {\n        \"dtype\": \"category\",\n        \"num_unique_values\": 1,\n        \"samples\": [\n          \"Summer\"\n        ],\n        \"semantic_type\": \"\",\n        \"description\": \"\"\n      }\n    }\n  ]\n}"
            }
          },
          "metadata": {},
          "execution_count": 19
        }
      ]
    },
    {
      "cell_type": "markdown",
      "source": [
        "## 🧩 Encoding Categorical Variables\n",
        "Machine learning models require numeric input. We convert text-based categorical data into numeric form using encoding techniques:\n",
        "\n",
        "- Label Encoding: Useful for ordinal variables.\n",
        "\n",
        "- One-Hot Encoding: Creates binary columns for each category (no implicit order).\n",
        "\n",
        "We’ll encode:\n",
        "\n",
        "- `species` (fish type)\n",
        "\n",
        "- `season`\n",
        "\n",
        "- Any other object columns (e.g. location, method) if available"
      ],
      "metadata": {
        "id": "OhuyYl1vOGZz"
      }
    },
    {
      "cell_type": "code",
      "source": [
        "from sklearn.preprocessing import LabelEncoder\n",
        "\n",
        "# Label encode species and season\n",
        "le_species = LabelEncoder()\n",
        "df['species_encoded'] = le_species.fit_transform(df['species'])\n",
        "\n",
        "le_season = LabelEncoder()\n",
        "df['season_encoded'] = le_season.fit_transform(df['season'])\n",
        "\n",
        "# One-hot encode day_of_week\n",
        "df = pd.get_dummies(df, columns=['day_of_week'], prefix='dow')\n",
        "\n",
        "df[['species', 'species_encoded', 'season', 'season_encoded'] + [col for col in df.columns if col.startswith('dow_')]].head()"
      ],
      "metadata": {
        "id": "PO9Gn14FOHCb",
        "colab": {
          "base_uri": "https://localhost:8080/",
          "height": 206
        },
        "outputId": "f5c51be4-b0b0-4e22-8ba9-8ef961d740cd"
      },
      "execution_count": 20,
      "outputs": [
        {
          "output_type": "execute_result",
          "data": {
            "text/plain": [
              "   species  species_encoded  season  season_encoded  dow_Monday  dow_Sunday  \\\n",
              "0  Tilapia                3  Summer               0       False        True   \n",
              "1  Snapper                2  Summer               0        True       False   \n",
              "2  Catfish                0  Summer               0        True       False   \n",
              "3  Tilapia                3  Summer               0       False       False   \n",
              "4  Tilapia                3  Summer               0       False       False   \n",
              "\n",
              "   dow_Thursday  dow_Tuesday  dow_Wednesday  \n",
              "0         False        False          False  \n",
              "1         False        False          False  \n",
              "2         False        False          False  \n",
              "3          True        False          False  \n",
              "4          True        False          False  "
            ],
            "text/html": [
              "\n",
              "  <div id=\"df-74360b5f-f944-4842-84c5-ae3cb22b3fb7\" class=\"colab-df-container\">\n",
              "    <div>\n",
              "<style scoped>\n",
              "    .dataframe tbody tr th:only-of-type {\n",
              "        vertical-align: middle;\n",
              "    }\n",
              "\n",
              "    .dataframe tbody tr th {\n",
              "        vertical-align: top;\n",
              "    }\n",
              "\n",
              "    .dataframe thead th {\n",
              "        text-align: right;\n",
              "    }\n",
              "</style>\n",
              "<table border=\"1\" class=\"dataframe\">\n",
              "  <thead>\n",
              "    <tr style=\"text-align: right;\">\n",
              "      <th></th>\n",
              "      <th>species</th>\n",
              "      <th>species_encoded</th>\n",
              "      <th>season</th>\n",
              "      <th>season_encoded</th>\n",
              "      <th>dow_Monday</th>\n",
              "      <th>dow_Sunday</th>\n",
              "      <th>dow_Thursday</th>\n",
              "      <th>dow_Tuesday</th>\n",
              "      <th>dow_Wednesday</th>\n",
              "    </tr>\n",
              "  </thead>\n",
              "  <tbody>\n",
              "    <tr>\n",
              "      <th>0</th>\n",
              "      <td>Tilapia</td>\n",
              "      <td>3</td>\n",
              "      <td>Summer</td>\n",
              "      <td>0</td>\n",
              "      <td>False</td>\n",
              "      <td>True</td>\n",
              "      <td>False</td>\n",
              "      <td>False</td>\n",
              "      <td>False</td>\n",
              "    </tr>\n",
              "    <tr>\n",
              "      <th>1</th>\n",
              "      <td>Snapper</td>\n",
              "      <td>2</td>\n",
              "      <td>Summer</td>\n",
              "      <td>0</td>\n",
              "      <td>True</td>\n",
              "      <td>False</td>\n",
              "      <td>False</td>\n",
              "      <td>False</td>\n",
              "      <td>False</td>\n",
              "    </tr>\n",
              "    <tr>\n",
              "      <th>2</th>\n",
              "      <td>Catfish</td>\n",
              "      <td>0</td>\n",
              "      <td>Summer</td>\n",
              "      <td>0</td>\n",
              "      <td>True</td>\n",
              "      <td>False</td>\n",
              "      <td>False</td>\n",
              "      <td>False</td>\n",
              "      <td>False</td>\n",
              "    </tr>\n",
              "    <tr>\n",
              "      <th>3</th>\n",
              "      <td>Tilapia</td>\n",
              "      <td>3</td>\n",
              "      <td>Summer</td>\n",
              "      <td>0</td>\n",
              "      <td>False</td>\n",
              "      <td>False</td>\n",
              "      <td>True</td>\n",
              "      <td>False</td>\n",
              "      <td>False</td>\n",
              "    </tr>\n",
              "    <tr>\n",
              "      <th>4</th>\n",
              "      <td>Tilapia</td>\n",
              "      <td>3</td>\n",
              "      <td>Summer</td>\n",
              "      <td>0</td>\n",
              "      <td>False</td>\n",
              "      <td>False</td>\n",
              "      <td>True</td>\n",
              "      <td>False</td>\n",
              "      <td>False</td>\n",
              "    </tr>\n",
              "  </tbody>\n",
              "</table>\n",
              "</div>\n",
              "    <div class=\"colab-df-buttons\">\n",
              "\n",
              "  <div class=\"colab-df-container\">\n",
              "    <button class=\"colab-df-convert\" onclick=\"convertToInteractive('df-74360b5f-f944-4842-84c5-ae3cb22b3fb7')\"\n",
              "            title=\"Convert this dataframe to an interactive table.\"\n",
              "            style=\"display:none;\">\n",
              "\n",
              "  <svg xmlns=\"http://www.w3.org/2000/svg\" height=\"24px\" viewBox=\"0 -960 960 960\">\n",
              "    <path d=\"M120-120v-720h720v720H120Zm60-500h600v-160H180v160Zm220 220h160v-160H400v160Zm0 220h160v-160H400v160ZM180-400h160v-160H180v160Zm440 0h160v-160H620v160ZM180-180h160v-160H180v160Zm440 0h160v-160H620v160Z\"/>\n",
              "  </svg>\n",
              "    </button>\n",
              "\n",
              "  <style>\n",
              "    .colab-df-container {\n",
              "      display:flex;\n",
              "      gap: 12px;\n",
              "    }\n",
              "\n",
              "    .colab-df-convert {\n",
              "      background-color: #E8F0FE;\n",
              "      border: none;\n",
              "      border-radius: 50%;\n",
              "      cursor: pointer;\n",
              "      display: none;\n",
              "      fill: #1967D2;\n",
              "      height: 32px;\n",
              "      padding: 0 0 0 0;\n",
              "      width: 32px;\n",
              "    }\n",
              "\n",
              "    .colab-df-convert:hover {\n",
              "      background-color: #E2EBFA;\n",
              "      box-shadow: 0px 1px 2px rgba(60, 64, 67, 0.3), 0px 1px 3px 1px rgba(60, 64, 67, 0.15);\n",
              "      fill: #174EA6;\n",
              "    }\n",
              "\n",
              "    .colab-df-buttons div {\n",
              "      margin-bottom: 4px;\n",
              "    }\n",
              "\n",
              "    [theme=dark] .colab-df-convert {\n",
              "      background-color: #3B4455;\n",
              "      fill: #D2E3FC;\n",
              "    }\n",
              "\n",
              "    [theme=dark] .colab-df-convert:hover {\n",
              "      background-color: #434B5C;\n",
              "      box-shadow: 0px 1px 3px 1px rgba(0, 0, 0, 0.15);\n",
              "      filter: drop-shadow(0px 1px 2px rgba(0, 0, 0, 0.3));\n",
              "      fill: #FFFFFF;\n",
              "    }\n",
              "  </style>\n",
              "\n",
              "    <script>\n",
              "      const buttonEl =\n",
              "        document.querySelector('#df-74360b5f-f944-4842-84c5-ae3cb22b3fb7 button.colab-df-convert');\n",
              "      buttonEl.style.display =\n",
              "        google.colab.kernel.accessAllowed ? 'block' : 'none';\n",
              "\n",
              "      async function convertToInteractive(key) {\n",
              "        const element = document.querySelector('#df-74360b5f-f944-4842-84c5-ae3cb22b3fb7');\n",
              "        const dataTable =\n",
              "          await google.colab.kernel.invokeFunction('convertToInteractive',\n",
              "                                                    [key], {});\n",
              "        if (!dataTable) return;\n",
              "\n",
              "        const docLinkHtml = 'Like what you see? Visit the ' +\n",
              "          '<a target=\"_blank\" href=https://colab.research.google.com/notebooks/data_table.ipynb>data table notebook</a>'\n",
              "          + ' to learn more about interactive tables.';\n",
              "        element.innerHTML = '';\n",
              "        dataTable['output_type'] = 'display_data';\n",
              "        await google.colab.output.renderOutput(dataTable, element);\n",
              "        const docLink = document.createElement('div');\n",
              "        docLink.innerHTML = docLinkHtml;\n",
              "        element.appendChild(docLink);\n",
              "      }\n",
              "    </script>\n",
              "  </div>\n",
              "\n",
              "\n",
              "    <div id=\"df-169fa40d-df69-41be-9ec5-bb2d9a73ef7f\">\n",
              "      <button class=\"colab-df-quickchart\" onclick=\"quickchart('df-169fa40d-df69-41be-9ec5-bb2d9a73ef7f')\"\n",
              "                title=\"Suggest charts\"\n",
              "                style=\"display:none;\">\n",
              "\n",
              "<svg xmlns=\"http://www.w3.org/2000/svg\" height=\"24px\"viewBox=\"0 0 24 24\"\n",
              "     width=\"24px\">\n",
              "    <g>\n",
              "        <path d=\"M19 3H5c-1.1 0-2 .9-2 2v14c0 1.1.9 2 2 2h14c1.1 0 2-.9 2-2V5c0-1.1-.9-2-2-2zM9 17H7v-7h2v7zm4 0h-2V7h2v10zm4 0h-2v-4h2v4z\"/>\n",
              "    </g>\n",
              "</svg>\n",
              "      </button>\n",
              "\n",
              "<style>\n",
              "  .colab-df-quickchart {\n",
              "      --bg-color: #E8F0FE;\n",
              "      --fill-color: #1967D2;\n",
              "      --hover-bg-color: #E2EBFA;\n",
              "      --hover-fill-color: #174EA6;\n",
              "      --disabled-fill-color: #AAA;\n",
              "      --disabled-bg-color: #DDD;\n",
              "  }\n",
              "\n",
              "  [theme=dark] .colab-df-quickchart {\n",
              "      --bg-color: #3B4455;\n",
              "      --fill-color: #D2E3FC;\n",
              "      --hover-bg-color: #434B5C;\n",
              "      --hover-fill-color: #FFFFFF;\n",
              "      --disabled-bg-color: #3B4455;\n",
              "      --disabled-fill-color: #666;\n",
              "  }\n",
              "\n",
              "  .colab-df-quickchart {\n",
              "    background-color: var(--bg-color);\n",
              "    border: none;\n",
              "    border-radius: 50%;\n",
              "    cursor: pointer;\n",
              "    display: none;\n",
              "    fill: var(--fill-color);\n",
              "    height: 32px;\n",
              "    padding: 0;\n",
              "    width: 32px;\n",
              "  }\n",
              "\n",
              "  .colab-df-quickchart:hover {\n",
              "    background-color: var(--hover-bg-color);\n",
              "    box-shadow: 0 1px 2px rgba(60, 64, 67, 0.3), 0 1px 3px 1px rgba(60, 64, 67, 0.15);\n",
              "    fill: var(--button-hover-fill-color);\n",
              "  }\n",
              "\n",
              "  .colab-df-quickchart-complete:disabled,\n",
              "  .colab-df-quickchart-complete:disabled:hover {\n",
              "    background-color: var(--disabled-bg-color);\n",
              "    fill: var(--disabled-fill-color);\n",
              "    box-shadow: none;\n",
              "  }\n",
              "\n",
              "  .colab-df-spinner {\n",
              "    border: 2px solid var(--fill-color);\n",
              "    border-color: transparent;\n",
              "    border-bottom-color: var(--fill-color);\n",
              "    animation:\n",
              "      spin 1s steps(1) infinite;\n",
              "  }\n",
              "\n",
              "  @keyframes spin {\n",
              "    0% {\n",
              "      border-color: transparent;\n",
              "      border-bottom-color: var(--fill-color);\n",
              "      border-left-color: var(--fill-color);\n",
              "    }\n",
              "    20% {\n",
              "      border-color: transparent;\n",
              "      border-left-color: var(--fill-color);\n",
              "      border-top-color: var(--fill-color);\n",
              "    }\n",
              "    30% {\n",
              "      border-color: transparent;\n",
              "      border-left-color: var(--fill-color);\n",
              "      border-top-color: var(--fill-color);\n",
              "      border-right-color: var(--fill-color);\n",
              "    }\n",
              "    40% {\n",
              "      border-color: transparent;\n",
              "      border-right-color: var(--fill-color);\n",
              "      border-top-color: var(--fill-color);\n",
              "    }\n",
              "    60% {\n",
              "      border-color: transparent;\n",
              "      border-right-color: var(--fill-color);\n",
              "    }\n",
              "    80% {\n",
              "      border-color: transparent;\n",
              "      border-right-color: var(--fill-color);\n",
              "      border-bottom-color: var(--fill-color);\n",
              "    }\n",
              "    90% {\n",
              "      border-color: transparent;\n",
              "      border-bottom-color: var(--fill-color);\n",
              "    }\n",
              "  }\n",
              "</style>\n",
              "\n",
              "      <script>\n",
              "        async function quickchart(key) {\n",
              "          const quickchartButtonEl =\n",
              "            document.querySelector('#' + key + ' button');\n",
              "          quickchartButtonEl.disabled = true;  // To prevent multiple clicks.\n",
              "          quickchartButtonEl.classList.add('colab-df-spinner');\n",
              "          try {\n",
              "            const charts = await google.colab.kernel.invokeFunction(\n",
              "                'suggestCharts', [key], {});\n",
              "          } catch (error) {\n",
              "            console.error('Error during call to suggestCharts:', error);\n",
              "          }\n",
              "          quickchartButtonEl.classList.remove('colab-df-spinner');\n",
              "          quickchartButtonEl.classList.add('colab-df-quickchart-complete');\n",
              "        }\n",
              "        (() => {\n",
              "          let quickchartButtonEl =\n",
              "            document.querySelector('#df-169fa40d-df69-41be-9ec5-bb2d9a73ef7f button');\n",
              "          quickchartButtonEl.style.display =\n",
              "            google.colab.kernel.accessAllowed ? 'block' : 'none';\n",
              "        })();\n",
              "      </script>\n",
              "    </div>\n",
              "\n",
              "    </div>\n",
              "  </div>\n"
            ],
            "application/vnd.google.colaboratory.intrinsic+json": {
              "type": "dataframe",
              "summary": "{\n  \"name\": \"df[['species', 'species_encoded', 'season', 'season_encoded'] + [col for col in df\",\n  \"rows\": 5,\n  \"fields\": [\n    {\n      \"column\": \"species\",\n      \"properties\": {\n        \"dtype\": \"string\",\n        \"num_unique_values\": 3,\n        \"samples\": [\n          \"Tilapia\",\n          \"Snapper\",\n          \"Catfish\"\n        ],\n        \"semantic_type\": \"\",\n        \"description\": \"\"\n      }\n    },\n    {\n      \"column\": \"species_encoded\",\n      \"properties\": {\n        \"dtype\": \"number\",\n        \"std\": 1,\n        \"min\": 0,\n        \"max\": 3,\n        \"num_unique_values\": 3,\n        \"samples\": [\n          3,\n          2,\n          0\n        ],\n        \"semantic_type\": \"\",\n        \"description\": \"\"\n      }\n    },\n    {\n      \"column\": \"season\",\n      \"properties\": {\n        \"dtype\": \"category\",\n        \"num_unique_values\": 1,\n        \"samples\": [\n          \"Summer\"\n        ],\n        \"semantic_type\": \"\",\n        \"description\": \"\"\n      }\n    },\n    {\n      \"column\": \"season_encoded\",\n      \"properties\": {\n        \"dtype\": \"number\",\n        \"std\": 0,\n        \"min\": 0,\n        \"max\": 0,\n        \"num_unique_values\": 1,\n        \"samples\": [\n          0\n        ],\n        \"semantic_type\": \"\",\n        \"description\": \"\"\n      }\n    },\n    {\n      \"column\": \"dow_Monday\",\n      \"properties\": {\n        \"dtype\": \"boolean\",\n        \"num_unique_values\": 2,\n        \"samples\": [\n          true\n        ],\n        \"semantic_type\": \"\",\n        \"description\": \"\"\n      }\n    },\n    {\n      \"column\": \"dow_Sunday\",\n      \"properties\": {\n        \"dtype\": \"boolean\",\n        \"num_unique_values\": 2,\n        \"samples\": [\n          false\n        ],\n        \"semantic_type\": \"\",\n        \"description\": \"\"\n      }\n    },\n    {\n      \"column\": \"dow_Thursday\",\n      \"properties\": {\n        \"dtype\": \"boolean\",\n        \"num_unique_values\": 2,\n        \"samples\": [\n          true\n        ],\n        \"semantic_type\": \"\",\n        \"description\": \"\"\n      }\n    },\n    {\n      \"column\": \"dow_Tuesday\",\n      \"properties\": {\n        \"dtype\": \"boolean\",\n        \"num_unique_values\": 1,\n        \"samples\": [\n          false\n        ],\n        \"semantic_type\": \"\",\n        \"description\": \"\"\n      }\n    },\n    {\n      \"column\": \"dow_Wednesday\",\n      \"properties\": {\n        \"dtype\": \"boolean\",\n        \"num_unique_values\": 1,\n        \"samples\": [\n          false\n        ],\n        \"semantic_type\": \"\",\n        \"description\": \"\"\n      }\n    }\n  ]\n}"
            }
          },
          "metadata": {},
          "execution_count": 20
        }
      ]
    },
    {
      "cell_type": "markdown",
      "source": [
        "🧠 Why Feature Engineering Matters\n",
        "Feature engineering can significantly improve model performance by:\n",
        "\n",
        "- Providing additional signal to the model\n",
        "\n",
        "- Making temporal patterns more explicit\n",
        "\n",
        "- Helping models generalize to unseen patterns"
      ],
      "metadata": {
        "id": "e99drouFOZZI"
      }
    },
    {
      "cell_type": "markdown",
      "source": [
        "# 📊 Basic Statistical Analysis\n",
        "📌 Overview\n",
        "Statistical analysis provides insights into the distribution and relationships within the data. In this section, we will:\n",
        "\n",
        "Calculate mean, median, and mode of catch-related values.\n",
        "\n",
        "Use Interquartile Range (IQR) to detect outliers.\n",
        "\n",
        "Explore correlation between numeric features.\n",
        "\n",
        "Visualize relationships with pairplots.\n",
        "\n"
      ],
      "metadata": {
        "id": "h1gUfUZQOkwo"
      }
    },
    {
      "cell_type": "markdown",
      "source": [
        "## 📈 Mean, Median, Mode of Catch Weight\n",
        "We'll examine the central tendency of the fish catch weight to understand typical values.\n"
      ],
      "metadata": {
        "id": "SIfGpZ9eOw2D"
      }
    },
    {
      "cell_type": "code",
      "source": [
        "# Replace 'weight' with the correct column name if needed\n",
        "print(\"Mean Weight:\", df['weight'].mean())\n",
        "print(\"Median Weight:\", df['weight'].median())\n",
        "print(\"Mode Weight:\", df['weight'].mode().values)"
      ],
      "metadata": {
        "id": "f5W3aFz0OVAm",
        "colab": {
          "base_uri": "https://localhost:8080/"
        },
        "outputId": "50a7c3e9-b073-4ca8-9c7d-e1ae97f51f5b"
      },
      "execution_count": 21,
      "outputs": [
        {
          "output_type": "stream",
          "name": "stdout",
          "text": [
            "Mean Weight: 1.84975\n",
            "Median Weight: 1.865\n",
            "Mode Weight: [1.44 2.12 2.5 ]\n"
          ]
        }
      ]
    },
    {
      "cell_type": "markdown",
      "source": [
        "## 🚨 Detecting Outliers with IQR\n",
        "Outliers are extreme values that may distort analysis. The IQR method identifies them by comparing each value to the interquartile range (Q3 - Q1).\n"
      ],
      "metadata": {
        "id": "fyE4g0tsO-fF"
      }
    },
    {
      "cell_type": "code",
      "source": [
        "# Calculate Q1 (25th percentile) and Q3 (75th percentile)\n",
        "Q1 = df['weight'].quantile(0.25)\n",
        "Q3 = df['weight'].quantile(0.75)\n",
        "IQR = Q3 - Q1\n",
        "\n",
        "# Define outliers\n",
        "lower_bound = Q1 - 1.5 * IQR\n",
        "upper_bound = Q3 + 1.5 * IQR\n",
        "\n",
        "# Filter outliers\n",
        "outliers = df[(df['weight'] < lower_bound) | (df['weight'] > upper_bound)]\n",
        "\n",
        "print(\"Number of Outliers:\", len(outliers))\n",
        "outliers[['date', 'species', 'weight']]"
      ],
      "metadata": {
        "id": "xRf07geDO_zk",
        "colab": {
          "base_uri": "https://localhost:8080/",
          "height": 71
        },
        "outputId": "c4ebaf45-63a5-407d-94f8-bfa51cef8703"
      },
      "execution_count": 22,
      "outputs": [
        {
          "output_type": "stream",
          "name": "stdout",
          "text": [
            "Number of Outliers: 0\n"
          ]
        },
        {
          "output_type": "execute_result",
          "data": {
            "text/plain": [
              "Empty DataFrame\n",
              "Columns: [date, species, weight]\n",
              "Index: []"
            ],
            "text/html": [
              "\n",
              "  <div id=\"df-78ede156-6333-4440-935e-3245b0a8efab\" class=\"colab-df-container\">\n",
              "    <div>\n",
              "<style scoped>\n",
              "    .dataframe tbody tr th:only-of-type {\n",
              "        vertical-align: middle;\n",
              "    }\n",
              "\n",
              "    .dataframe tbody tr th {\n",
              "        vertical-align: top;\n",
              "    }\n",
              "\n",
              "    .dataframe thead th {\n",
              "        text-align: right;\n",
              "    }\n",
              "</style>\n",
              "<table border=\"1\" class=\"dataframe\">\n",
              "  <thead>\n",
              "    <tr style=\"text-align: right;\">\n",
              "      <th></th>\n",
              "      <th>date</th>\n",
              "      <th>species</th>\n",
              "      <th>weight</th>\n",
              "    </tr>\n",
              "  </thead>\n",
              "  <tbody>\n",
              "  </tbody>\n",
              "</table>\n",
              "</div>\n",
              "    <div class=\"colab-df-buttons\">\n",
              "\n",
              "  <div class=\"colab-df-container\">\n",
              "    <button class=\"colab-df-convert\" onclick=\"convertToInteractive('df-78ede156-6333-4440-935e-3245b0a8efab')\"\n",
              "            title=\"Convert this dataframe to an interactive table.\"\n",
              "            style=\"display:none;\">\n",
              "\n",
              "  <svg xmlns=\"http://www.w3.org/2000/svg\" height=\"24px\" viewBox=\"0 -960 960 960\">\n",
              "    <path d=\"M120-120v-720h720v720H120Zm60-500h600v-160H180v160Zm220 220h160v-160H400v160Zm0 220h160v-160H400v160ZM180-400h160v-160H180v160Zm440 0h160v-160H620v160ZM180-180h160v-160H180v160Zm440 0h160v-160H620v160Z\"/>\n",
              "  </svg>\n",
              "    </button>\n",
              "\n",
              "  <style>\n",
              "    .colab-df-container {\n",
              "      display:flex;\n",
              "      gap: 12px;\n",
              "    }\n",
              "\n",
              "    .colab-df-convert {\n",
              "      background-color: #E8F0FE;\n",
              "      border: none;\n",
              "      border-radius: 50%;\n",
              "      cursor: pointer;\n",
              "      display: none;\n",
              "      fill: #1967D2;\n",
              "      height: 32px;\n",
              "      padding: 0 0 0 0;\n",
              "      width: 32px;\n",
              "    }\n",
              "\n",
              "    .colab-df-convert:hover {\n",
              "      background-color: #E2EBFA;\n",
              "      box-shadow: 0px 1px 2px rgba(60, 64, 67, 0.3), 0px 1px 3px 1px rgba(60, 64, 67, 0.15);\n",
              "      fill: #174EA6;\n",
              "    }\n",
              "\n",
              "    .colab-df-buttons div {\n",
              "      margin-bottom: 4px;\n",
              "    }\n",
              "\n",
              "    [theme=dark] .colab-df-convert {\n",
              "      background-color: #3B4455;\n",
              "      fill: #D2E3FC;\n",
              "    }\n",
              "\n",
              "    [theme=dark] .colab-df-convert:hover {\n",
              "      background-color: #434B5C;\n",
              "      box-shadow: 0px 1px 3px 1px rgba(0, 0, 0, 0.15);\n",
              "      filter: drop-shadow(0px 1px 2px rgba(0, 0, 0, 0.3));\n",
              "      fill: #FFFFFF;\n",
              "    }\n",
              "  </style>\n",
              "\n",
              "    <script>\n",
              "      const buttonEl =\n",
              "        document.querySelector('#df-78ede156-6333-4440-935e-3245b0a8efab button.colab-df-convert');\n",
              "      buttonEl.style.display =\n",
              "        google.colab.kernel.accessAllowed ? 'block' : 'none';\n",
              "\n",
              "      async function convertToInteractive(key) {\n",
              "        const element = document.querySelector('#df-78ede156-6333-4440-935e-3245b0a8efab');\n",
              "        const dataTable =\n",
              "          await google.colab.kernel.invokeFunction('convertToInteractive',\n",
              "                                                    [key], {});\n",
              "        if (!dataTable) return;\n",
              "\n",
              "        const docLinkHtml = 'Like what you see? Visit the ' +\n",
              "          '<a target=\"_blank\" href=https://colab.research.google.com/notebooks/data_table.ipynb>data table notebook</a>'\n",
              "          + ' to learn more about interactive tables.';\n",
              "        element.innerHTML = '';\n",
              "        dataTable['output_type'] = 'display_data';\n",
              "        await google.colab.output.renderOutput(dataTable, element);\n",
              "        const docLink = document.createElement('div');\n",
              "        docLink.innerHTML = docLinkHtml;\n",
              "        element.appendChild(docLink);\n",
              "      }\n",
              "    </script>\n",
              "  </div>\n",
              "\n",
              "\n",
              "    </div>\n",
              "  </div>\n"
            ],
            "application/vnd.google.colaboratory.intrinsic+json": {
              "type": "dataframe",
              "repr_error": "Out of range float values are not JSON compliant: nan"
            }
          },
          "metadata": {},
          "execution_count": 22
        }
      ]
    },
    {
      "cell_type": "markdown",
      "source": [
        "##🔗 Correlation Matrix\n",
        "A correlation matrix shows how strongly numeric variables relate to each other."
      ],
      "metadata": {
        "id": "qxEsbEXKPFMf"
      }
    },
    {
      "cell_type": "code",
      "source": [
        "import seaborn as sns\n",
        "import matplotlib.pyplot as plt\n",
        "\n",
        "# Compute correlation\n",
        "corr = df.corr(numeric_only=True)\n",
        "\n",
        "# Heatmap\n",
        "plt.figure(figsize=(8, 5))\n",
        "sns.heatmap(corr, annot=True, cmap='coolwarm', fmt=\".2f\")\n",
        "plt.title(\"Correlation Matrix\")\n",
        "plt.show()"
      ],
      "metadata": {
        "id": "s1oKtoyIPF64",
        "colab": {
          "base_uri": "https://localhost:8080/",
          "height": 572
        },
        "outputId": "2920b3aa-31a7-4762-ebda-010027566fe3"
      },
      "execution_count": 23,
      "outputs": [
        {
          "output_type": "display_data",
          "data": {
            "text/plain": [
              "<Figure size 800x500 with 2 Axes>"
            ],
            "image/png": "[encoded data removed]"
          },
          "metadata": {}
        }
      ]
    },
    {
      "cell_type": "markdown",
      "source": [
        "## 🧮 Pairplot for Visual Relationship\n",
        "Pairplots allow us to view pairwise relationships between features and can reveal clusters or trends."
      ],
      "metadata": {
        "id": "EWurRY9pPJ7z"
      }
    },
    {
      "cell_type": "code",
      "source": [
        "# Select numeric columns or subset\n",
        "numeric_cols = ['weight', 'month', 'season_encoded', 'species_encoded']\n",
        "\n",
        "# Plot pairplot\n",
        "sns.pairplot(df[numeric_cols])"
      ],
      "metadata": {
        "id": "dxmT0WMXPKwC"
      },
      "execution_count": null,
      "outputs": []
    },
    {
      "cell_type": "markdown",
      "source": [
        "# 🤖 Intro to Machine Learning (Scikit-learn)\n",
        "🎯 Goal\n",
        "Use basic ML models to predict fish catch weight from engineered features like species, date, and season.\n",
        "\n"
      ],
      "metadata": {
        "id": "m-VhzC5UPf7j"
      }
    },
    {
      "cell_type": "markdown",
      "source": [
        "## 🧪 Step 1: Prepare Features and Target\n",
        "We will use:\n",
        "\n",
        "- Encoded features: `species_encoded`, `month`, `season_encoded`\n",
        "\n",
        "- Target: `weight`"
      ],
      "metadata": {
        "id": "-YqRuZA9Pi_4"
      }
    },
    {
      "cell_type": "code",
      "source": [
        "from sklearn.model_selection import train_test_split\n",
        "\n",
        "# Define features and target\n",
        "features = ['species_encoded', 'month', 'season_encoded']\n",
        "target = 'weight'\n",
        "\n",
        "X = df[features]\n",
        "y = df[target]\n",
        "\n",
        "# Split into train and test sets\n",
        "X_train, X_test, y_train, y_test = train_test_split(X, y, test_size=0.2, random_state=42)\n"
      ],
      "metadata": {
        "id": "Z50btWzYPMAm"
      },
      "execution_count": null,
      "outputs": []
    },
    {
      "cell_type": "markdown",
      "source": [
        "## 📈 Step 2: Train Regression Models\n",
        "We’ll train and compare 3 basic models:\n",
        "\n",
        "- `LinearRegression`\n",
        "\n",
        "- `DecisionTreeRegressor`\n",
        "\n",
        "- `RandomForestRegressor`"
      ],
      "metadata": {
        "id": "B3Ob3bIdPrnh"
      }
    },
    {
      "cell_type": "code",
      "source": [
        "from sklearn.linear_model import LinearRegression\n",
        "from sklearn.tree import DecisionTreeRegressor\n",
        "from sklearn.ensemble import RandomForestRegressor\n",
        "\n",
        "# Initialize models\n",
        "lr = LinearRegression()\n",
        "dt = DecisionTreeRegressor(random_state=42)\n",
        "rf = RandomForestRegressor(random_state=42)\n",
        "\n",
        "# Train each model\n",
        "lr.fit(X_train, y_train)\n",
        "dt.fit(X_train, y_train)\n",
        "rf.fit(X_train, y_train)"
      ],
      "metadata": {
        "id": "NEmfDaPsPt_l"
      },
      "execution_count": null,
      "outputs": []
    },
    {
      "cell_type": "markdown",
      "source": [
        "## 📊 Step 3: Evaluate the Models\n",
        "We’ll use:\n",
        "\n",
        "- Mean Absolute Error (MAE)\n",
        "\n",
        "- Mean Squared Error (MSE)\n",
        "\n",
        "- R² Score"
      ],
      "metadata": {
        "id": "pgoqJvr-QTZ6"
      }
    },
    {
      "cell_type": "code",
      "source": [
        "from sklearn.metrics import mean_absolute_error, mean_squared_error, r2_score\n",
        "\n",
        "models = {'Linear Regression': lr, 'Decision Tree': dt, 'Random Forest': rf}\n",
        "\n",
        "for name, model in models.items():\n",
        "    y_pred = model.predict(X_test)\n",
        "    print(f\"--- {name} ---\")\n",
        "    print(\"MAE:\", mean_absolute_error(y_test, y_pred))\n",
        "    print(\"MSE:\", mean_squared_error(y_test, y_pred))\n",
        "    print(\"R² Score:\", r2_score(y_test, y_pred))\n",
        "    print()"
      ],
      "metadata": {
        "id": "7Evzz-GvQVot"
      },
      "execution_count": null,
      "outputs": []
    },
    {
      "cell_type": "markdown",
      "source": [
        "##🧪 (Optional) Step 4: Classification (e.g., Predict Fish Species)\n",
        "If your dataset includes labels (like species), you can switch to classification:"
      ],
      "metadata": {
        "id": "HF7_FWPvQYu3"
      }
    },
    {
      "cell_type": "code",
      "source": [
        "from sklearn.ensemble import RandomForestClassifier\n",
        "from sklearn.metrics import accuracy_score, classification_report\n",
        "\n",
        "# (Optional) Classification: Predict species from season and month\n",
        "X_cls = df[['month', 'season_encoded']]\n",
        "y_cls = df['species_encoded']\n",
        "\n",
        "X_train_c, X_test_c, y_train_c, y_test_c = train_test_split(X_cls, y_cls, test_size=0.2, random_state=42)\n",
        "\n",
        "clf = RandomForestClassifier(random_state=42)\n",
        "clf.fit(X_train_c, y_train_c)\n",
        "y_pred_c = clf.predict(X_test_c)\n",
        "\n",
        "print(\"Classification Accuracy:\", accuracy_score(y_test_c, y_pred_c))\n",
        "print(classification_report(y_test_c, y_pred_c))"
      ],
      "metadata": {
        "id": "Zs3hiq0BQaNL"
      },
      "execution_count": null,
      "outputs": []
    },
    {
      "cell_type": "markdown",
      "source": [
        "# 📤 Exporting Results"
      ],
      "metadata": {
        "id": "8QEy9HA2Qp3U"
      }
    },
    {
      "cell_type": "markdown",
      "source": [
        "##📝 Save Cleaned Data to CSV\n",
        "After data cleaning and feature engineering, we can save the processed dataset for future use."
      ],
      "metadata": {
        "id": "Kh7qDwjEQua5"
      }
    },
    {
      "cell_type": "code",
      "source": [
        "# Save cleaned dataset to CSV\n",
        "df.to_csv(\"cleaned_fish_data.csv\", index=False)\n",
        "print(\"Cleaned data saved as cleaned_fish_data.csv\")"
      ],
      "metadata": {
        "id": "BfNi-zSnQrsG"
      },
      "execution_count": null,
      "outputs": []
    },
    {
      "cell_type": "markdown",
      "source": [
        "## 🖼 Export Plots\n",
        "Matplotlib figures can be saved directly to files (PNG, JPG, etc.) using `plt.savefig()`."
      ],
      "metadata": {
        "id": "D5LYGWdKQyf2"
      }
    },
    {
      "cell_type": "code",
      "source": [
        "# Example: Save a correlation heatmap as PNG\n",
        "plt.figure(figsize=(8, 5))\n",
        "sns.heatmap(df.corr(numeric_only=True), annot=True, cmap='coolwarm', fmt=\".2f\")\n",
        "plt.title(\"Correlation Matrix\")\n",
        "\n",
        "plt.savefig(\"correlation_heatmap.png\", dpi=300, bbox_inches='tight')\n",
        "print(\"Correlation heatmap saved as correlation_heatmap.png\")\n",
        "plt.close()"
      ],
      "metadata": {
        "id": "lBYvqtvPQ1J9"
      },
      "execution_count": null,
      "outputs": []
    },
    {
      "cell_type": "markdown",
      "source": [
        "##📊 Export Model Predictions\n",
        "We can save predictions from trained models (e.g., RandomForestRegressor) along with the test set."
      ],
      "metadata": {
        "id": "hnEIY30IRU5R"
      }
    },
    {
      "cell_type": "code",
      "source": [
        "# Generate predictions\n",
        "y_pred_rf = rf.predict(X_test)\n",
        "\n",
        "# Create a DataFrame with actual and predicted values\n",
        "results = X_test.copy()\n",
        "results['Actual_Weight'] = y_test.values\n",
        "results['Predicted_Weight'] = y_pred_rf\n",
        "\n",
        "# Save results to CSV\n",
        "results.to_csv(\"model_predictions.csv\", index=False)\n",
        "print(\"Model predictions saved as model_predictions.csv\")\n",
        "\n",
        "results.head()"
      ],
      "metadata": {
        "id": "ZdX29KQ_RXS5"
      },
      "execution_count": null,
      "outputs": []
    },
    {
      "cell_type": "markdown",
      "source": [
        "# 🎉 Conclusion\n",
        "\n",
        "Congratulations! You’ve completed the **Basic Python for Data Science & AI** notebook. Here's what you've accomplished:\n",
        "\n",
        "✅ Loaded and explored a real-world dataset  \n",
        "✅ Cleaned, transformed, and visualized the data  \n",
        "✅ Engineered new features from dates and categories  \n",
        "✅ Performed basic statistical analysis and identified outliers  \n",
        "✅ Built simple ML models to predict fish catch weight  \n",
        "✅ Exported results and plots for reporting\n",
        "\n",
        "---\n",
        "\n",
        "### 🧠 Key Takeaways\n",
        "- Data understanding is critical before modeling\n",
        "- Feature engineering enhances model performance\n",
        "- Start simple, then iterate with more complexity\n",
        "- Visualization reveals hidden patterns\n",
        "- Exporting your work helps you share insights\n",
        "\n",
        "---\n",
        "\n",
        "### 🚀 Next Steps\n",
        "- Try adding new features (e.g., time of day, location zones)\n",
        "- Experiment with more ML models or tuning hyperparameters\n",
        "- Share your insights using dashboards or reports\n",
        "\n",
        "Happy Learning! 🎓🐟"
      ],
      "metadata": {
        "id": "C8QVyLamRvjs"
      }
    },
    {
      "cell_type": "code",
      "source": [],
      "metadata": {
        "id": "MCiUOR15Rv_d"
      },
      "execution_count": null,
      "outputs": []
    }
  ]
}